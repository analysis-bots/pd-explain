{
 "cells": [
  {
   "metadata": {},
   "cell_type": "markdown",
   "source": [
    "Due the the long runtime of this feature and issues with displaying widgets on GitHub, we offer a HTML version of this notebook which was already ran.\\\n",
    "Please see the HTML file with the same name as this notebook if you would like to see those results."
   ],
   "id": "a61677cf8f5504f3"
  },
  {
   "metadata": {},
   "cell_type": "markdown",
   "source": "# Automated Data Exploration Using LLMs Demo",
   "id": "f7162b8b8bae9d2b"
  },
  {
   "metadata": {},
   "cell_type": "markdown",
   "source": [
    "Pd-Explain offers the option to use a LLM for conducting automated data exploration.\\\n",
    "\\\n",
    "By providing a query of what the user wishes to explore, we utilize a LLM to generate queries with the goal of discovering information relevant to the user's request.\\\n",
    "Each query is analyzed using our explainers (specifically, the FEDEx and MetaInsight explainers), and fed back to the LLM for an iterative process, where in each iteration the LLM creates more queries to gleam more information relevant to the user's query, constructing a query tree.\\\n",
    "At the end of the process, the user will be provided with a summary of findings, visualizations of the queries referenced when producing the conclusions, and a log of the process itself, in a tab widget."
   ],
   "id": "7d7deeb28d71b431"
  },
  {
   "metadata": {},
   "cell_type": "markdown",
   "source": "## Import pd-explain and load data",
   "id": "161f723d5899b70e"
  },
  {
   "metadata": {},
   "cell_type": "code",
   "outputs": [],
   "execution_count": null,
   "source": [
    "import pandas as pd\n",
    "import pd_explain"
   ],
   "id": "2e0893b9d1bc8e5f"
  },
  {
   "metadata": {},
   "cell_type": "code",
   "outputs": [],
   "execution_count": null,
   "source": [
    "adults = pd.read_csv(\"../Datasets/adult.csv\")\n",
    "adults"
   ],
   "id": "3d133c5deb035df0"
  },
  {
   "metadata": {},
   "cell_type": "markdown",
   "source": "#### Note about LLM performance for automated data exploration",
   "id": "5d72a2950e90c41f"
  },
  {
   "metadata": {},
   "cell_type": "markdown",
   "source": "From our experience, deepseek-ai/DeepSeek-R1-Distill-Llama-70B-free works best for this task, giving the best performance in terms of producing valid and relevant queries (out of available free models).",
   "id": "44f049018257be34"
  },
  {
   "metadata": {},
   "cell_type": "markdown",
   "source": "# Using automated data exploration",
   "id": "e65f2434a03fb0f5"
  },
  {
   "metadata": {},
   "cell_type": "markdown",
   "source": "## Automated data exploration with a user defined query",
   "id": "bb478ea50da34d62"
  },
  {
   "metadata": {},
   "cell_type": "markdown",
   "source": [
    "The usage of the automatic data exploration is simple.\\\n",
    "However, note that it may take a while to run (several minutes).\\\n",
    "Once done, you will see a widget with several tabs open."
   ],
   "id": "d698422b36e339bd"
  },
  {
   "metadata": {},
   "cell_type": "code",
   "outputs": [],
   "execution_count": null,
   "source": "adults.automated_data_exploration(user_query=\"Explore the effect that education and occupation have on one's capital-loss and capital-gain\")",
   "id": "a65a4339821f2eec"
  },
  {
   "metadata": {},
   "cell_type": "markdown",
   "source": "#### Other parameters",
   "id": "95b5db86c6fdc3fa"
  },
  {
   "metadata": {},
   "cell_type": "markdown",
   "source": [
    "There are other parameters that can be controlled:\n",
    "\n",
    "- `num_iterations`: Number of iterations to run the deep dive analysis. Default is 10. Note that each iteration will call the LLM once.\n",
    "- `fedex_top_k`: Number of top findings to return from the FEDEx explainer. Default is 3.\n",
    "- `metainsight_top_k`: Number of top findings to return from the MetaInsight explainer. Default is 2.\n",
    "- `metainsight_max_filter_cols`: Maximum number of columns to analyze distribution of in the MetaInsight explainer. Default is 3.\n",
    "- `metainsight_max_agg_cols`: Maximum number of columns to aggregate by in the MetaInsight explainer. Default is 3.\n",
    "- `max_iterations_to_add`: The maximum number of iterations to add in case the LLM fails during some iterations. Default is 3. This can help mitigate cases where the LLM fails too many iterations and thus does not get enough information. Failures include failure to generate queries as well as cases where all queries generated produced zero findings."
   ],
   "id": "887e8fa309a9196e"
  },
  {
   "metadata": {},
   "cell_type": "markdown",
   "source": "#### Saving and re-loading results",
   "id": "de7c99b668a10160"
  },
  {
   "metadata": {},
   "cell_type": "markdown",
   "source": "It is possible to both save and re-load results after the automated exploration is finished, to avoid re-running the process, taking up time, tokens, and likely giving a not identical result (though typically somewhat similar).",
   "id": "c5a8d071e7d4bfd1"
  },
  {
   "metadata": {},
   "cell_type": "markdown",
   "source": "To save the results, use:",
   "id": "87d26d92344e6ca6"
  },
  {
   "metadata": {},
   "cell_type": "code",
   "outputs": [],
   "execution_count": null,
   "source": "adults.save_data_exploration(file_path=\"data_exploration_example.dill\")",
   "id": "e0e868c6570feecf"
  },
  {
   "metadata": {},
   "cell_type": "markdown",
   "source": "To load and visualize the results again, use:",
   "id": "d95fc2e2686770ad"
  },
  {
   "metadata": {},
   "cell_type": "code",
   "outputs": [],
   "execution_count": null,
   "source": "adults.visualize_from_saved_data_exploration(file_path=\"data_exploration_example.dill\")",
   "id": "f1778e59b383e2ae"
  },
  {
   "metadata": {},
   "cell_type": "markdown",
   "source": "## Automated follow up on explainer results using automated data exploration",
   "id": "34f9a68ba9cd0825"
  },
  {
   "metadata": {},
   "cell_type": "markdown",
   "source": [
    "You can use the automated data exploration feature to follow up on the results you got from the explainer, particularly so if you added LLM reasoning to it.\\\n",
    "The follow up feature will automatically pass your selected explanations and format a query for you, instructing the LLM to attempt to draw more information regarding the explanation(s), add context to them, and potentially corroborate any added reasoning by a LLM."
   ],
   "id": "29872b17b388ef29"
  },
  {
   "metadata": {},
   "cell_type": "code",
   "outputs": [],
   "execution_count": null,
   "source": [
    "low_income = adults[adults['label'] == '<=50K']\n",
    "low_income.explain(top_k=4)"
   ],
   "id": "fc38274e88f647ca"
  },
  {
   "metadata": {},
   "cell_type": "markdown",
   "source": [
    "The follow up feature requires the index of the explanation to follow up on. This is always 0-indexed.\\\n",
    "For fedex, top left is 0, top right is 1, and so on. Same for MetaInsight.\\\n",
    "For the many to one explainer, the index is the row number of the explanation in the table.\\\n",
    "For the outlier explainer, this parameter is not required, as it only has one explanation."
   ],
   "id": "7a6a39a2b7b0b4a"
  },
  {
   "metadata": {},
   "cell_type": "code",
   "outputs": [],
   "execution_count": null,
   "source": [
    "# You need to use the same DF you called 'explain' on\n",
    "low_income.follow_up_with_automated_data_exploration(0)"
   ],
   "id": "5559622f96d5a522"
  }
 ],
 "metadata": {
  "kernelspec": {
   "display_name": "Python 3",
   "language": "python",
   "name": "python3"
  },
  "language_info": {
   "codemirror_mode": {
    "name": "ipython",
    "version": 2
   },
   "file_extension": ".py",
   "mimetype": "text/x-python",
   "name": "python",
   "nbconvert_exporter": "python",
   "pygments_lexer": "ipython2",
   "version": "2.7.6"
  }
 },
 "nbformat": 4,
 "nbformat_minor": 5
}
