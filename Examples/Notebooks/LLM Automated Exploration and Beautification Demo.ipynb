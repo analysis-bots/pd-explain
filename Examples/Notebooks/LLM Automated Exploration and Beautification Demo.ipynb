{
 "cells": [
  {
   "cell_type": "markdown",
   "id": "c3b8e030ed35a7b",
   "metadata": {},
   "source": [
    "# LLM Features Demo"
   ]
  },
  {
   "cell_type": "markdown",
   "id": "a95aa2adf5319b31",
   "metadata": {},
   "source": [
    "PD-Explain supports integration with LLMs (Large Language Models) to provide additional features and capabilities.\\\n",
    "In this demo, we will explore the LLM features of PD-Explain."
   ]
  },
  {
   "metadata": {},
   "cell_type": "markdown",
   "source": "## Import pd-explain and load data",
   "id": "de767d0431dc996"
  },
  {
   "metadata": {
    "ExecuteTime": {
     "end_time": "2025-07-19T19:03:05.391408Z",
     "start_time": "2025-07-19T19:03:00.931570Z"
    }
   },
   "cell_type": "code",
   "source": [
    "import pandas as pd\n",
    "import pd_explain"
   ],
   "id": "6379837a689d2af5",
   "outputs": [
    {
     "name": "stdout",
     "output_type": "stream",
     "text": [
      "usetex-False\n"
     ]
    }
   ],
   "execution_count": 1
  },
  {
   "metadata": {
    "ExecuteTime": {
     "end_time": "2025-07-19T19:03:05.720861Z",
     "start_time": "2025-07-19T19:03:05.610974Z"
    }
   },
   "cell_type": "code",
   "source": [
    "adults = pd.read_csv(\"../Datasets/adult.csv\")\n",
    "adults"
   ],
   "id": "36a744b906500605",
   "outputs": [
    {
     "data": {
      "text/plain": [
       "       age         workclass  fnlwgt  education  education-num  \\\n",
       "0       39         State-gov   77516  Bachelors             13   \n",
       "1       50  Self-emp-not-inc   83311  Bachelors             13   \n",
       "2       38           Private  215646    HS-grad              9   \n",
       "3       53           Private  234721       11th              7   \n",
       "4       28           Private  338409  Bachelors             13   \n",
       "...    ...               ...     ...        ...            ...   \n",
       "48837   39           Private  215419  Bachelors             13   \n",
       "48838   64                 ?  321403    HS-grad              9   \n",
       "48839   38           Private  374983  Bachelors             13   \n",
       "48840   44           Private   83891  Bachelors             13   \n",
       "48841   35      Self-emp-inc  182148  Bachelors             13   \n",
       "\n",
       "           marital-status         occupation    relationship  \\\n",
       "0           Never-married       Adm-clerical   Not-in-family   \n",
       "1      Married-civ-spouse    Exec-managerial         Husband   \n",
       "2                Divorced  Handlers-cleaners   Not-in-family   \n",
       "3      Married-civ-spouse  Handlers-cleaners         Husband   \n",
       "4      Married-civ-spouse     Prof-specialty            Wife   \n",
       "...                   ...                ...             ...   \n",
       "48837            Divorced     Prof-specialty   Not-in-family   \n",
       "48838             Widowed                  ?  Other-relative   \n",
       "48839  Married-civ-spouse     Prof-specialty         Husband   \n",
       "48840            Divorced       Adm-clerical       Own-child   \n",
       "48841  Married-civ-spouse    Exec-managerial         Husband   \n",
       "\n",
       "                     race     sex  capital-gain  capital-loss  hours-per-week  \\\n",
       "0                   White    Male          2174             0              40   \n",
       "1                   White    Male             0             0              13   \n",
       "2                   White    Male             0             0              40   \n",
       "3                   Black    Male             0             0              40   \n",
       "4                   Black  Female             0             0              40   \n",
       "...                   ...     ...           ...           ...             ...   \n",
       "48837               White  Female             0             0              36   \n",
       "48838               Black    Male             0             0              40   \n",
       "48839               White    Male             0             0              50   \n",
       "48840  Asian-Pac-Islander    Male          5455             0              40   \n",
       "48841               White    Male             0             0              60   \n",
       "\n",
       "      native-country  label  \n",
       "0      United-States  <=50K  \n",
       "1      United-States  <=50K  \n",
       "2      United-States  <=50K  \n",
       "3      United-States  <=50K  \n",
       "4               Cuba  <=50K  \n",
       "...              ...    ...  \n",
       "48837  United-States  <=50K  \n",
       "48838  United-States  <=50K  \n",
       "48839  United-States  <=50K  \n",
       "48840  United-States  <=50K  \n",
       "48841  United-States   >50K  \n",
       "\n",
       "[48842 rows x 15 columns]"
      ],
      "text/html": [
       "<div>\n",
       "<style scoped>\n",
       "    .dataframe tbody tr th:only-of-type {\n",
       "        vertical-align: middle;\n",
       "    }\n",
       "\n",
       "    .dataframe tbody tr th {\n",
       "        vertical-align: top;\n",
       "    }\n",
       "\n",
       "    .dataframe thead th {\n",
       "        text-align: right;\n",
       "    }\n",
       "</style>\n",
       "<table border=\"1\" class=\"dataframe\">\n",
       "  <thead>\n",
       "    <tr style=\"text-align: right;\">\n",
       "      <th></th>\n",
       "      <th>age</th>\n",
       "      <th>workclass</th>\n",
       "      <th>fnlwgt</th>\n",
       "      <th>education</th>\n",
       "      <th>education-num</th>\n",
       "      <th>marital-status</th>\n",
       "      <th>occupation</th>\n",
       "      <th>relationship</th>\n",
       "      <th>race</th>\n",
       "      <th>sex</th>\n",
       "      <th>capital-gain</th>\n",
       "      <th>capital-loss</th>\n",
       "      <th>hours-per-week</th>\n",
       "      <th>native-country</th>\n",
       "      <th>label</th>\n",
       "    </tr>\n",
       "  </thead>\n",
       "  <tbody>\n",
       "    <tr>\n",
       "      <th>0</th>\n",
       "      <td>39</td>\n",
       "      <td>State-gov</td>\n",
       "      <td>77516</td>\n",
       "      <td>Bachelors</td>\n",
       "      <td>13</td>\n",
       "      <td>Never-married</td>\n",
       "      <td>Adm-clerical</td>\n",
       "      <td>Not-in-family</td>\n",
       "      <td>White</td>\n",
       "      <td>Male</td>\n",
       "      <td>2174</td>\n",
       "      <td>0</td>\n",
       "      <td>40</td>\n",
       "      <td>United-States</td>\n",
       "      <td>&lt;=50K</td>\n",
       "    </tr>\n",
       "    <tr>\n",
       "      <th>1</th>\n",
       "      <td>50</td>\n",
       "      <td>Self-emp-not-inc</td>\n",
       "      <td>83311</td>\n",
       "      <td>Bachelors</td>\n",
       "      <td>13</td>\n",
       "      <td>Married-civ-spouse</td>\n",
       "      <td>Exec-managerial</td>\n",
       "      <td>Husband</td>\n",
       "      <td>White</td>\n",
       "      <td>Male</td>\n",
       "      <td>0</td>\n",
       "      <td>0</td>\n",
       "      <td>13</td>\n",
       "      <td>United-States</td>\n",
       "      <td>&lt;=50K</td>\n",
       "    </tr>\n",
       "    <tr>\n",
       "      <th>2</th>\n",
       "      <td>38</td>\n",
       "      <td>Private</td>\n",
       "      <td>215646</td>\n",
       "      <td>HS-grad</td>\n",
       "      <td>9</td>\n",
       "      <td>Divorced</td>\n",
       "      <td>Handlers-cleaners</td>\n",
       "      <td>Not-in-family</td>\n",
       "      <td>White</td>\n",
       "      <td>Male</td>\n",
       "      <td>0</td>\n",
       "      <td>0</td>\n",
       "      <td>40</td>\n",
       "      <td>United-States</td>\n",
       "      <td>&lt;=50K</td>\n",
       "    </tr>\n",
       "    <tr>\n",
       "      <th>3</th>\n",
       "      <td>53</td>\n",
       "      <td>Private</td>\n",
       "      <td>234721</td>\n",
       "      <td>11th</td>\n",
       "      <td>7</td>\n",
       "      <td>Married-civ-spouse</td>\n",
       "      <td>Handlers-cleaners</td>\n",
       "      <td>Husband</td>\n",
       "      <td>Black</td>\n",
       "      <td>Male</td>\n",
       "      <td>0</td>\n",
       "      <td>0</td>\n",
       "      <td>40</td>\n",
       "      <td>United-States</td>\n",
       "      <td>&lt;=50K</td>\n",
       "    </tr>\n",
       "    <tr>\n",
       "      <th>4</th>\n",
       "      <td>28</td>\n",
       "      <td>Private</td>\n",
       "      <td>338409</td>\n",
       "      <td>Bachelors</td>\n",
       "      <td>13</td>\n",
       "      <td>Married-civ-spouse</td>\n",
       "      <td>Prof-specialty</td>\n",
       "      <td>Wife</td>\n",
       "      <td>Black</td>\n",
       "      <td>Female</td>\n",
       "      <td>0</td>\n",
       "      <td>0</td>\n",
       "      <td>40</td>\n",
       "      <td>Cuba</td>\n",
       "      <td>&lt;=50K</td>\n",
       "    </tr>\n",
       "    <tr>\n",
       "      <th>...</th>\n",
       "      <td>...</td>\n",
       "      <td>...</td>\n",
       "      <td>...</td>\n",
       "      <td>...</td>\n",
       "      <td>...</td>\n",
       "      <td>...</td>\n",
       "      <td>...</td>\n",
       "      <td>...</td>\n",
       "      <td>...</td>\n",
       "      <td>...</td>\n",
       "      <td>...</td>\n",
       "      <td>...</td>\n",
       "      <td>...</td>\n",
       "      <td>...</td>\n",
       "      <td>...</td>\n",
       "    </tr>\n",
       "    <tr>\n",
       "      <th>48837</th>\n",
       "      <td>39</td>\n",
       "      <td>Private</td>\n",
       "      <td>215419</td>\n",
       "      <td>Bachelors</td>\n",
       "      <td>13</td>\n",
       "      <td>Divorced</td>\n",
       "      <td>Prof-specialty</td>\n",
       "      <td>Not-in-family</td>\n",
       "      <td>White</td>\n",
       "      <td>Female</td>\n",
       "      <td>0</td>\n",
       "      <td>0</td>\n",
       "      <td>36</td>\n",
       "      <td>United-States</td>\n",
       "      <td>&lt;=50K</td>\n",
       "    </tr>\n",
       "    <tr>\n",
       "      <th>48838</th>\n",
       "      <td>64</td>\n",
       "      <td>?</td>\n",
       "      <td>321403</td>\n",
       "      <td>HS-grad</td>\n",
       "      <td>9</td>\n",
       "      <td>Widowed</td>\n",
       "      <td>?</td>\n",
       "      <td>Other-relative</td>\n",
       "      <td>Black</td>\n",
       "      <td>Male</td>\n",
       "      <td>0</td>\n",
       "      <td>0</td>\n",
       "      <td>40</td>\n",
       "      <td>United-States</td>\n",
       "      <td>&lt;=50K</td>\n",
       "    </tr>\n",
       "    <tr>\n",
       "      <th>48839</th>\n",
       "      <td>38</td>\n",
       "      <td>Private</td>\n",
       "      <td>374983</td>\n",
       "      <td>Bachelors</td>\n",
       "      <td>13</td>\n",
       "      <td>Married-civ-spouse</td>\n",
       "      <td>Prof-specialty</td>\n",
       "      <td>Husband</td>\n",
       "      <td>White</td>\n",
       "      <td>Male</td>\n",
       "      <td>0</td>\n",
       "      <td>0</td>\n",
       "      <td>50</td>\n",
       "      <td>United-States</td>\n",
       "      <td>&lt;=50K</td>\n",
       "    </tr>\n",
       "    <tr>\n",
       "      <th>48840</th>\n",
       "      <td>44</td>\n",
       "      <td>Private</td>\n",
       "      <td>83891</td>\n",
       "      <td>Bachelors</td>\n",
       "      <td>13</td>\n",
       "      <td>Divorced</td>\n",
       "      <td>Adm-clerical</td>\n",
       "      <td>Own-child</td>\n",
       "      <td>Asian-Pac-Islander</td>\n",
       "      <td>Male</td>\n",
       "      <td>5455</td>\n",
       "      <td>0</td>\n",
       "      <td>40</td>\n",
       "      <td>United-States</td>\n",
       "      <td>&lt;=50K</td>\n",
       "    </tr>\n",
       "    <tr>\n",
       "      <th>48841</th>\n",
       "      <td>35</td>\n",
       "      <td>Self-emp-inc</td>\n",
       "      <td>182148</td>\n",
       "      <td>Bachelors</td>\n",
       "      <td>13</td>\n",
       "      <td>Married-civ-spouse</td>\n",
       "      <td>Exec-managerial</td>\n",
       "      <td>Husband</td>\n",
       "      <td>White</td>\n",
       "      <td>Male</td>\n",
       "      <td>0</td>\n",
       "      <td>0</td>\n",
       "      <td>60</td>\n",
       "      <td>United-States</td>\n",
       "      <td>&gt;50K</td>\n",
       "    </tr>\n",
       "  </tbody>\n",
       "</table>\n",
       "<p>48842 rows × 15 columns</p>\n",
       "</div>"
      ]
     },
     "execution_count": 2,
     "metadata": {},
     "output_type": "execute_result"
    }
   ],
   "execution_count": 2
  },
  {
   "cell_type": "markdown",
   "id": "69ccb4d3c99156c0",
   "metadata": {},
   "source": [
    "## Automated Data Exploration"
   ]
  },
  {
   "cell_type": "markdown",
   "id": "d27ed260b270767a",
   "metadata": {},
   "source": [
    "Pd-Explain offers the option to use a LLM for conducting automated data exploration.\\\n",
    "\\\n",
    "By providing a query of what the user wishes to explore, we utilize a LLM to generate queries with the goal of discovering information relevant to the user's request.\\\n",
    "Each query is analyzed using our explainers (specifically, the FEDEx and MetaInsight explainers), and fed back to the LLM for an iterative process, where in each iteration the LLM creates more queries to gleam more information relevant to the user's query, constructing a query tree.\\\n",
    "At the end of the process, the user will be provided with a summary of findings, visualizations of the queries deemed most important to producing the conclusions, and the query tree drawn as a graph where the user can view all of the queries as well as visualize the findings of each query (where possible) by clicking on their node."
   ]
  },
  {
   "cell_type": "markdown",
   "id": "6be934eec833881a",
   "metadata": {},
   "source": [
    "### Note about LLM performance for automated data exploration"
   ]
  },
  {
   "cell_type": "markdown",
   "id": "a4ce6d6b3046a9c",
   "metadata": {},
   "source": [
    "From our experience, deepseek-ai/DeepSeek-R1-Distill-Llama-70B-free works best for this task, giving the best performance in terms of producing valid and relevant queries.\\\n",
    "On the other hand, gemini-2.5-flash often performs poorly, often ignoring instructions and producing queries that are not syntactically correct."
   ]
  },
  {
   "cell_type": "markdown",
   "id": "2a16de8fb9e225c4",
   "metadata": {},
   "source": [
    "### Using automated data exploration"
   ]
  },
  {
   "cell_type": "markdown",
   "id": "5f5afee6b0e4127c",
   "metadata": {},
   "source": [
    "The usage of the automatic data exploration is simple.\\\n",
    "However, note that it may take a while to run (possibly several minutes).\\\n",
    "Once done, you will see a widget with several tabs open."
   ]
  },
  {
   "cell_type": "code",
   "id": "1082f796578a84df",
   "metadata": {
    "ExecuteTime": {
     "end_time": "2025-07-19T18:56:09.046090Z",
     "start_time": "2025-07-19T18:52:30.496129Z"
    }
   },
   "source": "adults.automated_data_exploration(user_query=\"Explore the effect that education and occupation have on one's capital-loss and capital-gain\", verbose=True)",
   "outputs": [
    {
     "name": "stdout",
     "output_type": "stream",
     "text": [
      "Initial plan generated by the LLM:\n",
      "\n",
      "1. **Summarize Key Variables**: Generate summary statistics for education, occupation, capital-gain, and capital-loss to understand their distributions and central tendencies.\n",
      "\n",
      "2. **Explore Capital-Gain and Capital-Loss Distributions**: Run queries to examine the distribution of capital-gain and capital-loss across the dataset, including mean, median, min, max, and standard deviation.\n",
      "\n",
      "3. **Examine Education Distribution**: Generate a frequency distribution of the education variable to understand the prevalence of different education levels.\n",
      "\n",
      "4. **Examine Occupation Distribution**: Generate a frequency distribution of the occupation variable to understand the prevalence of different occupations.\n",
      "\n",
      "5. **Calculate Average Capital-Gain by Education**: Group the data by education and calculate the average capital-gain for each education level.\n",
      "\n",
      "6. **Calculate Average Capital-Loss by Education**: Group the data by education and calculate the average capital-loss for each education level.\n",
      "\n",
      "7. **Calculate Average Capital-Gain by Occupation**: Group the data by occupation and calculate the average capital-gain for each occupation.\n",
      "\n",
      "8. **Calculate Average Capital-Loss by Occupation**: Group the data by occupation and calculate the average capital-loss for each occupation.\n",
      "\n",
      "9. **Identify Top Occupations by Capital-Gain**: Sort occupations by average capital-gain in descending order and identify the top 5 occupations with the highest average capital-gain.\n",
      "\n",
      "10. **Identify Top Education Levels by Capital-Gain**: Sort education levels by average capital-gain in descending order and identify the top 5 education levels with the highest average capital-gain.\n",
      "\n",
      "Starting iteration 1/10\n",
      "\t - Sending request to LLM\n",
      "\t - Generated 2 queries for iteration 1\n",
      "\t - Query .groupby(['education', 'occupation']).agg({'capital-gain': ['mean', 'median', 'min', 'max', 'std'], 'capital-loss': ['mean', 'median', 'min', 'max', 'std']}, ddof=0) produced 3 FEDEx findings and 0 MetaInsight findings\n",
      "\t - Query [[df].agg({'capital-gain': ['mean', 'median', 'min', 'max', 'std'], 'capital-loss': ['mean', 'median', 'min', 'max', 'std']}, ddof=0)] produced  0 MetaInsight findings\n",
      "Starting iteration 2/10\n",
      "\t - Sending request to LLM\n",
      "\t - Generated 2 queries for iteration 2\n",
      "\t - Query .groupby('education').agg({'education': 'size'}) produced 1 FEDEx findings and 2 MetaInsight findings\n",
      "\t - Query .groupby('occupation').agg({'occupation': 'size'}) produced 1 FEDEx findings and 0 MetaInsight findings\n",
      "Starting iteration 3/10\n",
      "\t - Sending request to LLM\n",
      "\t - Generated 4 queries for iteration 3\n",
      "\t - Query .groupby('education').agg({'capital-gain': 'mean'}) produced 1 FEDEx findings and 2 MetaInsight findings\n",
      "\t - Query .groupby('education').agg({'capital-loss': 'mean'}) produced 1 FEDEx findings and 0 MetaInsight findings\n",
      "\t - Query .groupby('occupation').agg({'capital-gain': 'mean'}) produced 1 FEDEx findings and 2 MetaInsight findings\n",
      "\t - Query .groupby('occupation').agg({'capital-loss': 'mean'}) produced 1 FEDEx findings and 0 MetaInsight findings\n",
      "Starting iteration 4/10\n",
      "\t - Sending request to LLM\n",
      "\t - Generated 2 queries for iteration 4\n",
      "\t - Query .groupby('education').agg({'capital-gain': 'mean'}).sort_values(by='capital-gain', ascending=False).head(5) produced 1 FEDEx findings and 2 MetaInsight findings\n",
      "\t - Query .groupby('occupation').agg({'capital-gain': 'mean'}).sort_values(by='capital-gain', ascending=False).head(5) produced 1 FEDEx findings and 2 MetaInsight findings\n",
      "Starting iteration 5/10\n",
      "\t - Sending request to LLM\n",
      "\t - Generated 1 queries for iteration 5\n",
      "\t - Query .groupby(['education', 'occupation']).agg({'capital-gain': ['mean', 'std'], 'capital-loss': ['mean', 'std'], 'capital-gain': 'size'}, ddof=0) produced  0 MetaInsight findings\n",
      "Starting iteration 6/10\n",
      "\t - Sending request to LLM\n",
      "\t - Generated 2 queries for iteration 6\n",
      "\t - Error occurred while applying query: .groupby('education').agg({'education': 'size'}) - \"Column(s) ['education'] do not exist\"\n",
      "\t - Query .groupby('occupation').agg({'occupation': 'size'}) produced 1 FEDEx findings and 0 MetaInsight findings\n",
      "Starting iteration 7/10\n",
      "\t - Sending request to LLM\n",
      "\t - Generated 2 queries for iteration 7\n",
      "Error 'occupation' is both an index level and a column label, which is ambiguous. with operation group by explanation\n",
      "\t - Error occurred while applying query: .groupby(['education', 'occupation']).agg({'capital-gain': ['mean', 'std'], 'capital-loss': ['mean', 'std']}, ddof=0) - \"Column(s) ['capital-gain', 'capital-loss'] do not exist\"\n",
      "\t - Error occurred while applying query: .groupby('occupation').agg({'capital-gain': 'mean', 'capital-loss': 'mean'}) - 'occupation' is both an index level and a column label, which is ambiguous.\n",
      "Starting iteration 8/10\n",
      "\t - Sending request to LLM\n",
      "\t - Generated 2 queries for iteration 8\n",
      "\t - Error occurred while applying query: .sort_values(by='capital-gain', ascending=False) - The column label 'capital-gain' is not unique.\n",
      "For a multi-index, the label must be a tuple with elements corresponding to each level.\n",
      "\t - Error occurred while applying query: .sort_values(by='capital-loss', ascending=False) - The column label 'capital-loss' is not unique.\n",
      "For a multi-index, the label must be a tuple with elements corresponding to each level.\n",
      "Starting iteration 9/10\n",
      "\t - Sending request to LLM\n",
      "\t - Generated 1 queries for iteration 9\n",
      "\t - Error occurred while applying query: .groupby(['education', 'occupation']).agg({'capital-gain': ['mean', 'median', 'min', 'max', 'std'], 'capital-loss': ['mean', 'median', 'min', 'max', 'std']}, ddof=0) - \"Column(s) ['capital-gain', 'capital-loss'] do not exist\"\n",
      "Starting iteration 10/10\n",
      "\t - Sending request to LLM\n",
      "\t - Generated 1 queries for iteration 10\n",
      "\t - Query .groupby('education').agg({'capital-gain': ['mean', 'median', 'min', 'max', 'std'], 'capital-loss': ['mean', 'median', 'min', 'max', 'std']}, ddof=0).sort_values(by=('capital-gain', 'mean'), ascending=False).head(5) produced 3 FEDEx findings and 2 MetaInsight findings\n",
      "Generating final report...\n"
     ]
    },
    {
     "data": {
      "text/plain": [
       "<IPython.core.display.HTML object>"
      ],
      "text/html": [
       "\n",
       "                <style>\n",
       "                /* Make every Tab (jupyter-widgets.widget-tab) a vertical flex container */\n",
       "                .jupyter-widgets.widget-tab {\n",
       "                    display: flex !important;\n",
       "                    flex-direction: column;\n",
       "                    height: 100%;\n",
       "                }\n",
       "\n",
       "                /* Fix the TabBar at the top, allow horizontal scrolling of tab titles */\n",
       "                .jupyter-widgets.widget-tab > .p-TabBar {\n",
       "                    flex: 0 0 auto;         /* do not grow or shrink */\n",
       "                    overflow-x: auto;       /* horizontal scrollbar if too many tabs */\n",
       "                    white-space: nowrap;    /* keep each title on one line */\n",
       "                }\n",
       "                .jupyter-widgets.widget-tab > .p-TabBar .p-TabBar-tab {\n",
       "                    flex: 0 0 auto;         /* prevent individual titles from shrinking */\n",
       "                    white-space: nowrap;    /* show full text of each title */\n",
       "                }\n",
       "\n",
       "                /* Make the TabPanels area fill remaining space and scroll vertically */\n",
       "                .jupyter-widgets.widget-tab > .p-TabPanels {\n",
       "                    flex: 1 1 auto;         /* take up all leftover height */\n",
       "                    overflow-y: auto;       /* vertical scrollbar for content */\n",
       "                }\n",
       "                </style>\n",
       "                "
      ]
     },
     "metadata": {},
     "output_type": "display_data"
    },
    {
     "data": {
      "text/plain": [
       "Tab(children=(HTML(value='\\n            <div style=\\'padding:20px; max-width:800px; line-height:1.5; font-fami…"
      ],
      "application/vnd.jupyter.widget-view+json": {
       "version_major": 2,
       "version_minor": 0,
       "model_id": "5c32bc48df004ac0bbc57423958bf694"
      }
     },
     "execution_count": 3,
     "metadata": {},
     "output_type": "execute_result"
    }
   ],
   "execution_count": 3
  },
  {
   "cell_type": "markdown",
   "id": "5402944bd650a384",
   "metadata": {},
   "source": [
    "There are other parameters that can be controlled:\n",
    "\n",
    "- `num_iterations`: Number of iterations to run the deep dive analysis. Default is 10. Note that each iteration will call the LLM once.\n",
    "- `queries_per_iteration`: Number of queries to generate per iteration. Default is 5. This number is not set in stone, and may go up during the process if the LLM's queries fail too often.\n",
    "- `fedex_top_k`: Number of top findings to return from the FEDEx explainer. Default is 3.\n",
    "- `metainsight_top_k`: Number of top findings to return from the MetaInsight explainer. Default is 2.\n",
    "- `metainsight_max_filter_cols`: Maximum number of columns to analyze distribution of in the MetaInsight explainer. Default is 3.\n",
    "- `metainsight_max_agg_cols`: Maximum number of columns to aggregate by in the MetaInsight explainer. Default is 3.\n",
    "- `visualization_type`: The type of visualization for the query tree. Can be 'graph' for an interactive graph visualization, or 'simple' for a simpler, static HTML visualization. Default is 'graph'."
   ]
  },
  {
   "cell_type": "markdown",
   "id": "6b06316f0d23d027",
   "metadata": {},
   "source": [
    "#### Saving and re-loading results"
   ]
  },
  {
   "cell_type": "markdown",
   "id": "c7604fdd3d6f6f87",
   "metadata": {},
   "source": [
    "It is possible to both save and re-load results after the automated exploration is finished, to avoid re-running the process, taking up time, tokens, and likely giving a not identical result (though typically somewhat similar)."
   ]
  },
  {
   "cell_type": "markdown",
   "id": "8adba3d11d4551a8",
   "metadata": {},
   "source": [
    "To save the results, use:"
   ]
  },
  {
   "cell_type": "code",
   "id": "7e114c3f894ac896",
   "metadata": {
    "ExecuteTime": {
     "end_time": "2025-07-19T18:59:36.168409Z",
     "start_time": "2025-07-19T18:58:26.029456Z"
    }
   },
   "source": "adults.save_data_exploration(file_path=\"data_exploration_example_3.dill\")",
   "outputs": [],
   "execution_count": 4
  },
  {
   "cell_type": "markdown",
   "id": "34e1e10de4eb8f85",
   "metadata": {},
   "source": [
    "To load and visualize the results again, use (`graph` is the default value of the second argument)"
   ]
  },
  {
   "cell_type": "code",
   "id": "1f84b496956b239f",
   "metadata": {
    "ExecuteTime": {
     "end_time": "2025-07-19T19:03:13.124310Z",
     "start_time": "2025-07-19T19:03:07.043201Z"
    }
   },
   "source": "adults.visualize_from_saved_data_exploration(file_path=\"data_exploration_example_3.dill\", visualization_type='graph')",
   "outputs": [
    {
     "data": {
      "text/plain": [
       "<IPython.core.display.HTML object>"
      ],
      "text/html": [
       "\n",
       "                <style>\n",
       "                /* Make every Tab (jupyter-widgets.widget-tab) a vertical flex container */\n",
       "                .jupyter-widgets.widget-tab {\n",
       "                    display: flex !important;\n",
       "                    flex-direction: column;\n",
       "                    height: 100%;\n",
       "                }\n",
       "\n",
       "                /* Fix the TabBar at the top, allow horizontal scrolling of tab titles */\n",
       "                .jupyter-widgets.widget-tab > .p-TabBar {\n",
       "                    flex: 0 0 auto;         /* do not grow or shrink */\n",
       "                    overflow-x: auto;       /* horizontal scrollbar if too many tabs */\n",
       "                    white-space: nowrap;    /* keep each title on one line */\n",
       "                }\n",
       "                .jupyter-widgets.widget-tab > .p-TabBar .p-TabBar-tab {\n",
       "                    flex: 0 0 auto;         /* prevent individual titles from shrinking */\n",
       "                    white-space: nowrap;    /* show full text of each title */\n",
       "                }\n",
       "\n",
       "                /* Make the TabPanels area fill remaining space and scroll vertically */\n",
       "                .jupyter-widgets.widget-tab > .p-TabPanels {\n",
       "                    flex: 1 1 auto;         /* take up all leftover height */\n",
       "                    overflow-y: auto;       /* vertical scrollbar for content */\n",
       "                }\n",
       "                </style>\n",
       "                "
      ]
     },
     "metadata": {},
     "output_type": "display_data"
    },
    {
     "data": {
      "text/plain": [
       "Tab(children=(HTML(value='\\n            <div style=\\'padding:20px; max-width:800px; line-height:1.5; font-fami…"
      ],
      "application/vnd.jupyter.widget-view+json": {
       "version_major": 2,
       "version_minor": 0,
       "model_id": "3752339e08a042d487f89a8bd378e914"
      }
     },
     "execution_count": 3,
     "metadata": {},
     "output_type": "execute_result"
    }
   ],
   "execution_count": 3
  },
  {
   "cell_type": "markdown",
   "id": "9210c1f491e0f00e",
   "metadata": {},
   "source": [
    "### Loading pre-prepared results for this demo"
   ]
  },
  {
   "cell_type": "markdown",
   "id": "4fcc7e2daf8599c3",
   "metadata": {},
   "source": [
    "Since the automated data exploration can take a while to run, we have prepared a file with the results of the automated data exploration for this demo."
   ]
  },
  {
   "cell_type": "code",
   "execution_count": null,
   "id": "7522deff8e14b0ea",
   "metadata": {},
   "outputs": [],
   "source": [
    "# Uncomment the following line if you don't have gdown installed\n",
    "#!pip install gdown"
   ]
  },
  {
   "cell_type": "markdown",
   "id": "2624fa14b87e53ac",
   "metadata": {},
   "source": [
    "#### Example 1"
   ]
  },
  {
   "cell_type": "code",
   "execution_count": 12,
   "id": "8bed1b1db8c1a212",
   "metadata": {},
   "outputs": [
    {
     "name": "stderr",
     "output_type": "stream",
     "text": [
      "Downloading...\n",
      "From (original): https://drive.google.com/uc?export=download&id=1AlXSWy-P_Uif6BZ2pBcIZDyyvShFF5LV\n",
      "From (redirected): https://drive.google.com/uc?export=download&id=1AlXSWy-P_Uif6BZ2pBcIZDyyvShFF5LV&confirm=t&uuid=d3bacf88-4a62-4c28-8406-6c1cead829b1\n",
      "To: C:\\Users\\Yuval\\PycharmProjects\\pd-explain\\Examples\\Notebooks\\data_exploration_example.dill\n",
      "100%|██████████| 157M/157M [00:04<00:00, 36.0MB/s] \n"
     ]
    },
    {
     "data": {
      "text/plain": [
       "'data_exploration_example.dill'"
      ]
     },
     "execution_count": 12,
     "metadata": {},
     "output_type": "execute_result"
    }
   ],
   "source": [
    "import gdown\n",
    "url= \"https://drive.google.com/uc?export=download&id=1AlXSWy-P_Uif6BZ2pBcIZDyyvShFF5LV\"\n",
    "output = \"data_exploration_example.dill\"\n",
    "gdown.download(url, output, quiet=False)"
   ]
  },
  {
   "cell_type": "code",
   "execution_count": 17,
   "id": "1cfbd0b74db80b43",
   "metadata": {
    "ExecuteTime": {
     "end_time": "2025-06-10T18:29:07.528838Z",
     "start_time": "2025-06-10T18:29:02.368558Z"
    }
   },
   "outputs": [
    {
     "data": {
      "text/html": [
       "\n",
       "                <style>\n",
       "                /* Make every Tab (jupyter-widgets.widget-tab) a vertical flex container */\n",
       "                .jupyter-widgets.widget-tab {\n",
       "                    display: flex !important;\n",
       "                    flex-direction: column;\n",
       "                    height: 100%;\n",
       "                }\n",
       "\n",
       "                /* Fix the TabBar at the top, allow horizontal scrolling of tab titles */\n",
       "                .jupyter-widgets.widget-tab > .p-TabBar {\n",
       "                    flex: 0 0 auto;         /* do not grow or shrink */\n",
       "                    overflow-x: auto;       /* horizontal scrollbar if too many tabs */\n",
       "                    white-space: nowrap;    /* keep each title on one line */\n",
       "                }\n",
       "                .jupyter-widgets.widget-tab > .p-TabBar .p-TabBar-tab {\n",
       "                    flex: 0 0 auto;         /* prevent individual titles from shrinking */\n",
       "                    white-space: nowrap;    /* show full text of each title */\n",
       "                }\n",
       "\n",
       "                /* Make the TabPanels area fill remaining space and scroll vertically */\n",
       "                .jupyter-widgets.widget-tab > .p-TabPanels {\n",
       "                    flex: 1 1 auto;         /* take up all leftover height */\n",
       "                    overflow-y: auto;       /* vertical scrollbar for content */\n",
       "                }\n",
       "                </style>\n",
       "                "
      ],
      "text/plain": [
       "<IPython.core.display.HTML object>"
      ]
     },
     "metadata": {},
     "output_type": "display_data"
    },
    {
     "data": {
      "application/vnd.jupyter.widget-view+json": {
       "model_id": "3f0bb33a81e34b49958c2a0278fbd9ec",
       "version_major": 2,
       "version_minor": 0
      },
      "text/plain": [
       "Tab(children=(HTML(value='\\n            <div style=\\'padding:20px; max-width:800px; line-height:1.5; font-fami…"
      ]
     },
     "execution_count": 17,
     "metadata": {},
     "output_type": "execute_result"
    }
   ],
   "source": [
    "adults.visualize_from_saved_data_exploration(file_path=\"data_exploration_example.dill\")"
   ]
  },
  {
   "cell_type": "markdown",
   "id": "447afacd7f07d371",
   "metadata": {},
   "source": [
    "#### Example 2"
   ]
  },
  {
   "cell_type": "code",
   "execution_count": 14,
   "id": "cc2932c8530ff501",
   "metadata": {},
   "outputs": [
    {
     "name": "stderr",
     "output_type": "stream",
     "text": [
      "Downloading...\n",
      "From: https://drive.google.com/uc?export=download&id=19LC-vv7rHnIbqzzsn5RAoFm12erZAL0N\n",
      "To: C:\\Users\\Yuval\\PycharmProjects\\pd-explain\\Examples\\Notebooks\\data_exploration_example2.dill\n",
      "100%|██████████| 29.8M/29.8M [00:01<00:00, 25.9MB/s]\n"
     ]
    },
    {
     "data": {
      "text/plain": [
       "'data_exploration_example2.dill'"
      ]
     },
     "execution_count": 14,
     "metadata": {},
     "output_type": "execute_result"
    }
   ],
   "source": [
    "import gdown\n",
    "url= \"https://drive.google.com/uc?export=download&id=19LC-vv7rHnIbqzzsn5RAoFm12erZAL0N\"\n",
    "output = \"data_exploration_example2.dill\"\n",
    "gdown.download(url, output, quiet=False)"
   ]
  },
  {
   "cell_type": "code",
   "execution_count": 18,
   "id": "a47ba988ca5014f5",
   "metadata": {},
   "outputs": [
    {
     "data": {
      "text/html": [
       "\n",
       "                <style>\n",
       "                /* Make every Tab (jupyter-widgets.widget-tab) a vertical flex container */\n",
       "                .jupyter-widgets.widget-tab {\n",
       "                    display: flex !important;\n",
       "                    flex-direction: column;\n",
       "                    height: 100%;\n",
       "                }\n",
       "\n",
       "                /* Fix the TabBar at the top, allow horizontal scrolling of tab titles */\n",
       "                .jupyter-widgets.widget-tab > .p-TabBar {\n",
       "                    flex: 0 0 auto;         /* do not grow or shrink */\n",
       "                    overflow-x: auto;       /* horizontal scrollbar if too many tabs */\n",
       "                    white-space: nowrap;    /* keep each title on one line */\n",
       "                }\n",
       "                .jupyter-widgets.widget-tab > .p-TabBar .p-TabBar-tab {\n",
       "                    flex: 0 0 auto;         /* prevent individual titles from shrinking */\n",
       "                    white-space: nowrap;    /* show full text of each title */\n",
       "                }\n",
       "\n",
       "                /* Make the TabPanels area fill remaining space and scroll vertically */\n",
       "                .jupyter-widgets.widget-tab > .p-TabPanels {\n",
       "                    flex: 1 1 auto;         /* take up all leftover height */\n",
       "                    overflow-y: auto;       /* vertical scrollbar for content */\n",
       "                }\n",
       "                </style>\n",
       "                "
      ],
      "text/plain": [
       "<IPython.core.display.HTML object>"
      ]
     },
     "metadata": {},
     "output_type": "display_data"
    },
    {
     "data": {
      "application/vnd.jupyter.widget-view+json": {
       "model_id": "b8cd42c6e4234d7b8cb1cdc76ce0e087",
       "version_major": 2,
       "version_minor": 0
      },
      "text/plain": [
       "Tab(children=(HTML(value='\\n            <div style=\\'padding:20px; max-width:800px; line-height:1.5; font-fami…"
      ]
     },
     "execution_count": 18,
     "metadata": {},
     "output_type": "execute_result"
    }
   ],
   "source": [
    "adults.visualize_from_saved_data_exploration(file_path=\"data_exploration_example2.dill\")"
   ]
  },
  {
   "cell_type": "markdown",
   "id": "431066fe15577bc8",
   "metadata": {},
   "source": [
    "### Automated follow up on explainer results using automated data exploration"
   ]
  },
  {
   "cell_type": "markdown",
   "id": "d8d8285536f9830a",
   "metadata": {},
   "source": [
    "You can use the automated data exploration feature to follow up on the results you got from the explainer, particularly so if you added LLM reasoning to it.\\\n",
    "The follow up feature will automatically pass your selected explanations and format a query for you, instructing the LLM to attempt to draw more information regarding the explanation(s), add context to them, and potentially corroborate any added reasoning by a LLM."
   ]
  },
  {
   "metadata": {},
   "cell_type": "code",
   "outputs": [],
   "execution_count": null,
   "source": [
    "low_income = adults[adults['label'] == '<=50K']\n",
    "low_income.explain(top_k=4)"
   ],
   "id": "e3896d49b52f9d9a"
  },
  {
   "cell_type": "code",
   "execution_count": null,
   "id": "a77355e4a9178d00",
   "metadata": {},
   "outputs": [],
   "source": [
    "# For this example, we are using the explanations for low_income from the first section.\n",
    "# The index passed is the index of the explanation, in this case, the top left plot.\n",
    "low_income.follow_up_with_automated_data_exploration(explanation_index=0)"
   ]
  },
  {
   "cell_type": "markdown",
   "id": "3676ceaf5b99e9f4",
   "metadata": {},
   "source": [
    "#### Pre-prepared results for this demo"
   ]
  },
  {
   "cell_type": "markdown",
   "id": "560096df14cdd457",
   "metadata": {},
   "source": [
    "There are two pre-prepared results for this demo - once without LLM reasoning, and once with LLM reasoning.\\\n",
    "First, we will load the results without LLM reasoning:"
   ]
  },
  {
   "cell_type": "code",
   "execution_count": null,
   "id": "47ab2a47915a8d39",
   "metadata": {},
   "outputs": [],
   "source": [
    "# Uncomment the following line if you don't have gdown installed\n",
    "#!pip install gdown"
   ]
  },
  {
   "cell_type": "code",
   "execution_count": 19,
   "id": "f8c7a106e1f44a07",
   "metadata": {},
   "outputs": [
    {
     "name": "stderr",
     "output_type": "stream",
     "text": [
      "Downloading...\n",
      "From (original): https://drive.google.com/uc?export=download&id=1zpkg2U0nFR0-k8wXpTFe01fOjWLfT7hr\n",
      "From (redirected): https://drive.google.com/uc?export=download&id=1zpkg2U0nFR0-k8wXpTFe01fOjWLfT7hr&confirm=t&uuid=72a9457c-7478-44ce-af80-e607f32b6294\n",
      "To: C:\\Users\\Yuval\\PycharmProjects\\pd-explain\\Examples\\Notebooks\\follow_up_example.dill\n",
      "100%|██████████| 234M/234M [00:05<00:00, 41.2MB/s] \n"
     ]
    },
    {
     "data": {
      "text/plain": [
       "'follow_up_example.dill'"
      ]
     },
     "execution_count": 19,
     "metadata": {},
     "output_type": "execute_result"
    }
   ],
   "source": [
    "import gdown\n",
    "url= \"https://drive.google.com/uc?export=download&id=1zpkg2U0nFR0-k8wXpTFe01fOjWLfT7hr\"\n",
    "output = \"follow_up_example.dill\"\n",
    "gdown.download(url, output, quiet=False)"
   ]
  },
  {
   "cell_type": "code",
   "execution_count": 20,
   "id": "fbb4c5baadd5868",
   "metadata": {
    "ExecuteTime": {
     "end_time": "2025-06-10T18:29:30.694464Z",
     "start_time": "2025-06-10T18:29:19.350504Z"
    }
   },
   "outputs": [
    {
     "data": {
      "text/html": [
       "\n",
       "                <style>\n",
       "                /* Make every Tab (jupyter-widgets.widget-tab) a vertical flex container */\n",
       "                .jupyter-widgets.widget-tab {\n",
       "                    display: flex !important;\n",
       "                    flex-direction: column;\n",
       "                    height: 100%;\n",
       "                }\n",
       "\n",
       "                /* Fix the TabBar at the top, allow horizontal scrolling of tab titles */\n",
       "                .jupyter-widgets.widget-tab > .p-TabBar {\n",
       "                    flex: 0 0 auto;         /* do not grow or shrink */\n",
       "                    overflow-x: auto;       /* horizontal scrollbar if too many tabs */\n",
       "                    white-space: nowrap;    /* keep each title on one line */\n",
       "                }\n",
       "                .jupyter-widgets.widget-tab > .p-TabBar .p-TabBar-tab {\n",
       "                    flex: 0 0 auto;         /* prevent individual titles from shrinking */\n",
       "                    white-space: nowrap;    /* show full text of each title */\n",
       "                }\n",
       "\n",
       "                /* Make the TabPanels area fill remaining space and scroll vertically */\n",
       "                .jupyter-widgets.widget-tab > .p-TabPanels {\n",
       "                    flex: 1 1 auto;         /* take up all leftover height */\n",
       "                    overflow-y: auto;       /* vertical scrollbar for content */\n",
       "                }\n",
       "                </style>\n",
       "                "
      ],
      "text/plain": [
       "<IPython.core.display.HTML object>"
      ]
     },
     "metadata": {},
     "output_type": "display_data"
    },
    {
     "data": {
      "application/vnd.jupyter.widget-view+json": {
       "model_id": "3ed0f2132ada427d8ebad8ff119440e4",
       "version_major": 2,
       "version_minor": 0
      },
      "text/plain": [
       "Tab(children=(HTML(value='\\n            <div style=\\'padding:20px; max-width:800px; line-height:1.5; font-fami…"
      ]
     },
     "execution_count": 20,
     "metadata": {},
     "output_type": "execute_result"
    }
   ],
   "source": [
    "adults.visualize_from_saved_data_exploration(file_path=\"follow_up_example.dill\")"
   ]
  },
  {
   "cell_type": "markdown",
   "id": "89cd6d6a3e407a33",
   "metadata": {},
   "source": [
    "And next, the results with LLM reasoning:"
   ]
  },
  {
   "cell_type": "code",
   "execution_count": 21,
   "id": "78bd3be71d36928c",
   "metadata": {},
   "outputs": [
    {
     "name": "stderr",
     "output_type": "stream",
     "text": [
      "Downloading...\n",
      "From (original): https://drive.google.com/uc?export=download&id=1iaxDdzAEjKtytYAItip23MnVNBQ3ZK_l\n",
      "From (redirected): https://drive.google.com/uc?export=download&id=1iaxDdzAEjKtytYAItip23MnVNBQ3ZK_l&confirm=t&uuid=1a498f49-8f2f-435c-9647-691e7112e578\n",
      "To: C:\\Users\\Yuval\\PycharmProjects\\pd-explain\\Examples\\Notebooks\\follow_up_example_with_llm.dill\n",
      "100%|██████████| 265M/265M [00:06<00:00, 44.0MB/s] \n"
     ]
    },
    {
     "data": {
      "text/plain": [
       "'follow_up_example_with_llm.dill'"
      ]
     },
     "execution_count": 21,
     "metadata": {},
     "output_type": "execute_result"
    }
   ],
   "source": [
    "import gdown\n",
    "url= \"https://drive.google.com/uc?export=download&id=1iaxDdzAEjKtytYAItip23MnVNBQ3ZK_l\"\n",
    "output = \"follow_up_example_with_llm.dill\"\n",
    "gdown.download(url, output, quiet=False)"
   ]
  },
  {
   "cell_type": "code",
   "execution_count": 22,
   "id": "6b70857957ec5527",
   "metadata": {
    "ExecuteTime": {
     "end_time": "2025-06-10T18:30:00.327509Z",
     "start_time": "2025-06-10T18:29:39.139205Z"
    }
   },
   "outputs": [
    {
     "data": {
      "text/html": [
       "\n",
       "                <style>\n",
       "                /* Make every Tab (jupyter-widgets.widget-tab) a vertical flex container */\n",
       "                .jupyter-widgets.widget-tab {\n",
       "                    display: flex !important;\n",
       "                    flex-direction: column;\n",
       "                    height: 100%;\n",
       "                }\n",
       "\n",
       "                /* Fix the TabBar at the top, allow horizontal scrolling of tab titles */\n",
       "                .jupyter-widgets.widget-tab > .p-TabBar {\n",
       "                    flex: 0 0 auto;         /* do not grow or shrink */\n",
       "                    overflow-x: auto;       /* horizontal scrollbar if too many tabs */\n",
       "                    white-space: nowrap;    /* keep each title on one line */\n",
       "                }\n",
       "                .jupyter-widgets.widget-tab > .p-TabBar .p-TabBar-tab {\n",
       "                    flex: 0 0 auto;         /* prevent individual titles from shrinking */\n",
       "                    white-space: nowrap;    /* show full text of each title */\n",
       "                }\n",
       "\n",
       "                /* Make the TabPanels area fill remaining space and scroll vertically */\n",
       "                .jupyter-widgets.widget-tab > .p-TabPanels {\n",
       "                    flex: 1 1 auto;         /* take up all leftover height */\n",
       "                    overflow-y: auto;       /* vertical scrollbar for content */\n",
       "                }\n",
       "                </style>\n",
       "                "
      ],
      "text/plain": [
       "<IPython.core.display.HTML object>"
      ]
     },
     "metadata": {},
     "output_type": "display_data"
    },
    {
     "data": {
      "application/vnd.jupyter.widget-view+json": {
       "model_id": "f4a2522785144b79935546c3f07fdbc1",
       "version_major": 2,
       "version_minor": 0
      },
      "text/plain": [
       "Tab(children=(HTML(value='\\n            <div style=\\'padding:20px; max-width:800px; line-height:1.5; font-fami…"
      ]
     },
     "execution_count": 22,
     "metadata": {},
     "output_type": "execute_result"
    }
   ],
   "source": [
    "adults.visualize_from_saved_data_exploration(file_path=\"follow_up_example_with_llm.dill\")"
   ]
  },
  {
   "cell_type": "markdown",
   "id": "7f9766e0b6d9d32a",
   "metadata": {},
   "source": [
    "## Beautifying Plots with LLMs"
   ]
  },
  {
   "cell_type": "markdown",
   "id": "d762e28132356cdd",
   "metadata": {},
   "source": [
    "The beautification feature allows you to use a LLM to generate a (hopefully) more aesthetically pleasing version of your plots.\\\n",
    "Note that this feature requires a multi-modal LLM that can handle images, such as Google's Gemini.\\\n",
    "\\\n",
    "The beautification process is done by:\n",
    "1. Showing the LLM the plot + the code and data used to generate it, and asking it to generate new code that will produce a more aesthetically pleasing version of the plot.\n",
    "2. Iteratively running the generated code until the LLM either produces a plot that is satisfactory, or it runs out of attempts to fix the plot. The LLM will score each attempt where a plot was generated, and will stop when it reaches a satisfactory score or when it runs out of attempts.\n",
    "3. Returning the plot with the highest score, alongside the original plot.\n",
    "\n",
    "Currently, only the `fedex` and `MetaInsight` explainers support beautification.\\\n",
    "\\\n",
    "Beautification can also be used with the automated data exploration feature, to beautify each explainer's plots as well as the query tree visualization.\\\n",
    "\\\n",
    "Parameters:\n",
    "- `beautify`: Whether to beautify the plot or not. Default is False.\n",
    "- `beautify_max_fix_attempts`: Maximum number of attempts to fix the plot. Default is 10.\n",
    "- `silent_beautify`: Whether to print progress messages during the beautification process. Default is False."
   ]
  },
  {
   "cell_type": "markdown",
   "id": "28ddaa43bd62e2c1",
   "metadata": {},
   "source": [
    "### Example 1: Beautifying a FEDEx Explanation Plot"
   ]
  },
  {
   "cell_type": "code",
   "execution_count": 3,
   "id": "4f825ccc6c56e03a",
   "metadata": {
    "ExecuteTime": {
     "end_time": "2025-06-29T13:43:47.159670Z",
     "start_time": "2025-06-29T13:43:46.587319Z"
    }
   },
   "outputs": [
    {
     "data": {
      "text/html": [
       "<div>\n",
       "<style scoped>\n",
       "    .dataframe tbody tr th:only-of-type {\n",
       "        vertical-align: middle;\n",
       "    }\n",
       "\n",
       "    .dataframe tbody tr th {\n",
       "        vertical-align: top;\n",
       "    }\n",
       "\n",
       "    .dataframe thead th {\n",
       "        text-align: right;\n",
       "    }\n",
       "</style>\n",
       "<table border=\"1\" class=\"dataframe\">\n",
       "  <thead>\n",
       "    <tr style=\"text-align: right;\">\n",
       "      <th></th>\n",
       "      <th>age</th>\n",
       "      <th>workclass</th>\n",
       "      <th>fnlwgt</th>\n",
       "      <th>education</th>\n",
       "      <th>education-num</th>\n",
       "      <th>marital-status</th>\n",
       "      <th>occupation</th>\n",
       "      <th>relationship</th>\n",
       "      <th>race</th>\n",
       "      <th>sex</th>\n",
       "      <th>capital-gain</th>\n",
       "      <th>capital-loss</th>\n",
       "      <th>hours-per-week</th>\n",
       "      <th>native-country</th>\n",
       "      <th>label</th>\n",
       "    </tr>\n",
       "  </thead>\n",
       "  <tbody>\n",
       "    <tr>\n",
       "      <th>0</th>\n",
       "      <td>39</td>\n",
       "      <td>State-gov</td>\n",
       "      <td>77516</td>\n",
       "      <td>Bachelors</td>\n",
       "      <td>13</td>\n",
       "      <td>Never-married</td>\n",
       "      <td>Adm-clerical</td>\n",
       "      <td>Not-in-family</td>\n",
       "      <td>White</td>\n",
       "      <td>Male</td>\n",
       "      <td>2174</td>\n",
       "      <td>0</td>\n",
       "      <td>40</td>\n",
       "      <td>United-States</td>\n",
       "      <td>&lt;=50K</td>\n",
       "    </tr>\n",
       "    <tr>\n",
       "      <th>1</th>\n",
       "      <td>50</td>\n",
       "      <td>Self-emp-not-inc</td>\n",
       "      <td>83311</td>\n",
       "      <td>Bachelors</td>\n",
       "      <td>13</td>\n",
       "      <td>Married-civ-spouse</td>\n",
       "      <td>Exec-managerial</td>\n",
       "      <td>Husband</td>\n",
       "      <td>White</td>\n",
       "      <td>Male</td>\n",
       "      <td>0</td>\n",
       "      <td>0</td>\n",
       "      <td>13</td>\n",
       "      <td>United-States</td>\n",
       "      <td>&lt;=50K</td>\n",
       "    </tr>\n",
       "    <tr>\n",
       "      <th>2</th>\n",
       "      <td>38</td>\n",
       "      <td>Private</td>\n",
       "      <td>215646</td>\n",
       "      <td>HS-grad</td>\n",
       "      <td>9</td>\n",
       "      <td>Divorced</td>\n",
       "      <td>Handlers-cleaners</td>\n",
       "      <td>Not-in-family</td>\n",
       "      <td>White</td>\n",
       "      <td>Male</td>\n",
       "      <td>0</td>\n",
       "      <td>0</td>\n",
       "      <td>40</td>\n",
       "      <td>United-States</td>\n",
       "      <td>&lt;=50K</td>\n",
       "    </tr>\n",
       "    <tr>\n",
       "      <th>3</th>\n",
       "      <td>53</td>\n",
       "      <td>Private</td>\n",
       "      <td>234721</td>\n",
       "      <td>11th</td>\n",
       "      <td>7</td>\n",
       "      <td>Married-civ-spouse</td>\n",
       "      <td>Handlers-cleaners</td>\n",
       "      <td>Husband</td>\n",
       "      <td>Black</td>\n",
       "      <td>Male</td>\n",
       "      <td>0</td>\n",
       "      <td>0</td>\n",
       "      <td>40</td>\n",
       "      <td>United-States</td>\n",
       "      <td>&lt;=50K</td>\n",
       "    </tr>\n",
       "    <tr>\n",
       "      <th>4</th>\n",
       "      <td>28</td>\n",
       "      <td>Private</td>\n",
       "      <td>338409</td>\n",
       "      <td>Bachelors</td>\n",
       "      <td>13</td>\n",
       "      <td>Married-civ-spouse</td>\n",
       "      <td>Prof-specialty</td>\n",
       "      <td>Wife</td>\n",
       "      <td>Black</td>\n",
       "      <td>Female</td>\n",
       "      <td>0</td>\n",
       "      <td>0</td>\n",
       "      <td>40</td>\n",
       "      <td>Cuba</td>\n",
       "      <td>&lt;=50K</td>\n",
       "    </tr>\n",
       "    <tr>\n",
       "      <th>...</th>\n",
       "      <td>...</td>\n",
       "      <td>...</td>\n",
       "      <td>...</td>\n",
       "      <td>...</td>\n",
       "      <td>...</td>\n",
       "      <td>...</td>\n",
       "      <td>...</td>\n",
       "      <td>...</td>\n",
       "      <td>...</td>\n",
       "      <td>...</td>\n",
       "      <td>...</td>\n",
       "      <td>...</td>\n",
       "      <td>...</td>\n",
       "      <td>...</td>\n",
       "      <td>...</td>\n",
       "    </tr>\n",
       "    <tr>\n",
       "      <th>48836</th>\n",
       "      <td>33</td>\n",
       "      <td>Private</td>\n",
       "      <td>245211</td>\n",
       "      <td>Bachelors</td>\n",
       "      <td>13</td>\n",
       "      <td>Never-married</td>\n",
       "      <td>Prof-specialty</td>\n",
       "      <td>Own-child</td>\n",
       "      <td>White</td>\n",
       "      <td>Male</td>\n",
       "      <td>0</td>\n",
       "      <td>0</td>\n",
       "      <td>40</td>\n",
       "      <td>United-States</td>\n",
       "      <td>&lt;=50K</td>\n",
       "    </tr>\n",
       "    <tr>\n",
       "      <th>48837</th>\n",
       "      <td>39</td>\n",
       "      <td>Private</td>\n",
       "      <td>215419</td>\n",
       "      <td>Bachelors</td>\n",
       "      <td>13</td>\n",
       "      <td>Divorced</td>\n",
       "      <td>Prof-specialty</td>\n",
       "      <td>Not-in-family</td>\n",
       "      <td>White</td>\n",
       "      <td>Female</td>\n",
       "      <td>0</td>\n",
       "      <td>0</td>\n",
       "      <td>36</td>\n",
       "      <td>United-States</td>\n",
       "      <td>&lt;=50K</td>\n",
       "    </tr>\n",
       "    <tr>\n",
       "      <th>48838</th>\n",
       "      <td>64</td>\n",
       "      <td>?</td>\n",
       "      <td>321403</td>\n",
       "      <td>HS-grad</td>\n",
       "      <td>9</td>\n",
       "      <td>Widowed</td>\n",
       "      <td>?</td>\n",
       "      <td>Other-relative</td>\n",
       "      <td>Black</td>\n",
       "      <td>Male</td>\n",
       "      <td>0</td>\n",
       "      <td>0</td>\n",
       "      <td>40</td>\n",
       "      <td>United-States</td>\n",
       "      <td>&lt;=50K</td>\n",
       "    </tr>\n",
       "    <tr>\n",
       "      <th>48839</th>\n",
       "      <td>38</td>\n",
       "      <td>Private</td>\n",
       "      <td>374983</td>\n",
       "      <td>Bachelors</td>\n",
       "      <td>13</td>\n",
       "      <td>Married-civ-spouse</td>\n",
       "      <td>Prof-specialty</td>\n",
       "      <td>Husband</td>\n",
       "      <td>White</td>\n",
       "      <td>Male</td>\n",
       "      <td>0</td>\n",
       "      <td>0</td>\n",
       "      <td>50</td>\n",
       "      <td>United-States</td>\n",
       "      <td>&lt;=50K</td>\n",
       "    </tr>\n",
       "    <tr>\n",
       "      <th>48840</th>\n",
       "      <td>44</td>\n",
       "      <td>Private</td>\n",
       "      <td>83891</td>\n",
       "      <td>Bachelors</td>\n",
       "      <td>13</td>\n",
       "      <td>Divorced</td>\n",
       "      <td>Adm-clerical</td>\n",
       "      <td>Own-child</td>\n",
       "      <td>Asian-Pac-Islander</td>\n",
       "      <td>Male</td>\n",
       "      <td>5455</td>\n",
       "      <td>0</td>\n",
       "      <td>40</td>\n",
       "      <td>United-States</td>\n",
       "      <td>&lt;=50K</td>\n",
       "    </tr>\n",
       "  </tbody>\n",
       "</table>\n",
       "<p>37155 rows × 15 columns</p>\n",
       "</div>"
      ],
      "text/plain": [
       "       age         workclass  fnlwgt  education  education-num  \\\n",
       "0       39         State-gov   77516  Bachelors             13   \n",
       "1       50  Self-emp-not-inc   83311  Bachelors             13   \n",
       "2       38           Private  215646    HS-grad              9   \n",
       "3       53           Private  234721       11th              7   \n",
       "4       28           Private  338409  Bachelors             13   \n",
       "...    ...               ...     ...        ...            ...   \n",
       "48836   33           Private  245211  Bachelors             13   \n",
       "48837   39           Private  215419  Bachelors             13   \n",
       "48838   64                 ?  321403    HS-grad              9   \n",
       "48839   38           Private  374983  Bachelors             13   \n",
       "48840   44           Private   83891  Bachelors             13   \n",
       "\n",
       "           marital-status         occupation    relationship  \\\n",
       "0           Never-married       Adm-clerical   Not-in-family   \n",
       "1      Married-civ-spouse    Exec-managerial         Husband   \n",
       "2                Divorced  Handlers-cleaners   Not-in-family   \n",
       "3      Married-civ-spouse  Handlers-cleaners         Husband   \n",
       "4      Married-civ-spouse     Prof-specialty            Wife   \n",
       "...                   ...                ...             ...   \n",
       "48836       Never-married     Prof-specialty       Own-child   \n",
       "48837            Divorced     Prof-specialty   Not-in-family   \n",
       "48838             Widowed                  ?  Other-relative   \n",
       "48839  Married-civ-spouse     Prof-specialty         Husband   \n",
       "48840            Divorced       Adm-clerical       Own-child   \n",
       "\n",
       "                     race     sex  capital-gain  capital-loss  hours-per-week  \\\n",
       "0                   White    Male          2174             0              40   \n",
       "1                   White    Male             0             0              13   \n",
       "2                   White    Male             0             0              40   \n",
       "3                   Black    Male             0             0              40   \n",
       "4                   Black  Female             0             0              40   \n",
       "...                   ...     ...           ...           ...             ...   \n",
       "48836               White    Male             0             0              40   \n",
       "48837               White  Female             0             0              36   \n",
       "48838               Black    Male             0             0              40   \n",
       "48839               White    Male             0             0              50   \n",
       "48840  Asian-Pac-Islander    Male          5455             0              40   \n",
       "\n",
       "      native-country  label  \n",
       "0      United-States  <=50K  \n",
       "1      United-States  <=50K  \n",
       "2      United-States  <=50K  \n",
       "3      United-States  <=50K  \n",
       "4               Cuba  <=50K  \n",
       "...              ...    ...  \n",
       "48836  United-States  <=50K  \n",
       "48837  United-States  <=50K  \n",
       "48838  United-States  <=50K  \n",
       "48839  United-States  <=50K  \n",
       "48840  United-States  <=50K  \n",
       "\n",
       "[37155 rows x 15 columns]"
      ]
     },
     "execution_count": 3,
     "metadata": {},
     "output_type": "execute_result"
    }
   ],
   "source": [
    "low_income = adults[adults['label'] == '<=50K']\n",
    "low_income"
   ]
  },
  {
   "cell_type": "code",
   "execution_count": 4,
   "id": "d1e0592aedeae1",
   "metadata": {
    "ExecuteTime": {
     "end_time": "2025-06-29T13:46:42.524929Z",
     "start_time": "2025-06-29T13:43:48.893765Z"
    }
   },
   "outputs": [
    {
     "name": "stdout",
     "output_type": "stream",
     "text": [
      "Error encountered in LLM generated code - Execution error - cannot access local variable 'get_max_k' where it is not associated with a value\n",
      "Attempting to fix the code... (1/10)\n",
      "The generated code executed successfully.\n",
      "Approving or improving the generated visualization... 2/10\n",
      "The LLM disapproved the generated visualization and scored it 6.0 / 10. It will attempt to improve it.\n",
      "The generated code executed successfully.\n",
      "Approving or improving the generated visualization... 3/10\n",
      "The LLM disapproved the generated visualization and scored it 9.0 / 10. It will attempt to improve it.\n",
      "The generated code executed successfully.\n",
      "Approving or improving the generated visualization... 4/10\n",
      "The LLM disapproved the generated visualization and scored it 8.0 / 10. It will attempt to improve it.\n",
      "The generated code executed successfully.\n",
      "Approving or improving the generated visualization... 5/10\n",
      "The LLM disapproved the generated visualization and scored it 9.0 / 10. It will attempt to improve it.\n",
      "The generated code executed successfully.\n",
      "Approving or improving the generated visualization... 6/10\n",
      "The LLM disapproved the generated visualization and scored it 9.0 / 10. It will attempt to improve it.\n",
      "Error encountered in LLM generated code - Execution error - keyword argument repeated: fontsize (<string>, line 80)\n",
      "Attempting to fix the code... (7/10)\n",
      "The generated code executed successfully.\n",
      "Approving or improving the generated visualization... 8/10\n",
      "The LLM disapproved the generated visualization and scored it 8.0 / 10. It will attempt to improve it.\n",
      "The generated code executed successfully.\n",
      "Approving or improving the generated visualization... 9/10\n",
      "The LLM approved the generated visualization, giving it a score of 9.7 / 10\n"
     ]
    },
    {
     "data": {
      "application/vnd.jupyter.widget-view+json": {
       "model_id": "a557ae930bd34faab1cb7b70e76728c2",
       "version_major": 2,
       "version_minor": 0
      },
      "text/plain": [
       "Tab(children=(Output(), Output()), selected_index=0, titles=('Original Visualization', 'Beautified Visualizati…"
      ]
     },
     "metadata": {},
     "output_type": "display_data"
    }
   ],
   "source": [
    "low_income.explain(top_k=4, beautify=True, add_llm_explanation_reasoning=True, silent_beautify=False)"
   ]
  },
  {
   "cell_type": "markdown",
   "id": "e86547297ad91e47",
   "metadata": {},
   "source": [
    "### Example 2: Beautifying a MetaInsight Explanation Plot"
   ]
  },
  {
   "cell_type": "code",
   "execution_count": 10,
   "id": "c53041468cd89fe6",
   "metadata": {},
   "outputs": [
    {
     "data": {
      "text/html": [
       "<div>\n",
       "<style scoped>\n",
       "    .dataframe tbody tr th:only-of-type {\n",
       "        vertical-align: middle;\n",
       "    }\n",
       "\n",
       "    .dataframe tbody tr th {\n",
       "        vertical-align: top;\n",
       "    }\n",
       "\n",
       "    .dataframe thead th {\n",
       "        text-align: right;\n",
       "    }\n",
       "</style>\n",
       "<table border=\"1\" class=\"dataframe\">\n",
       "  <thead>\n",
       "    <tr style=\"text-align: right;\">\n",
       "      <th></th>\n",
       "      <th>age</th>\n",
       "      <th>fnlwgt</th>\n",
       "      <th>education-num</th>\n",
       "      <th>capital-gain</th>\n",
       "      <th>capital-loss</th>\n",
       "      <th>hours-per-week</th>\n",
       "    </tr>\n",
       "    <tr>\n",
       "      <th>marital-status</th>\n",
       "      <th></th>\n",
       "      <th></th>\n",
       "      <th></th>\n",
       "      <th></th>\n",
       "      <th></th>\n",
       "      <th></th>\n",
       "    </tr>\n",
       "  </thead>\n",
       "  <tbody>\n",
       "    <tr>\n",
       "      <th>Divorced</th>\n",
       "      <td>43.159204</td>\n",
       "      <td>184749.693954</td>\n",
       "      <td>10.052917</td>\n",
       "      <td>793.675562</td>\n",
       "      <td>67.654304</td>\n",
       "      <td>41.115483</td>\n",
       "    </tr>\n",
       "    <tr>\n",
       "      <th>Married-AF-spouse</th>\n",
       "      <td>31.945946</td>\n",
       "      <td>184132.675676</td>\n",
       "      <td>10.432432</td>\n",
       "      <td>2971.621622</td>\n",
       "      <td>84.756757</td>\n",
       "      <td>39.810811</td>\n",
       "    </tr>\n",
       "    <tr>\n",
       "      <th>Married-civ-spouse</th>\n",
       "      <td>43.353724</td>\n",
       "      <td>186790.582510</td>\n",
       "      <td>10.303275</td>\n",
       "      <td>1739.700612</td>\n",
       "      <td>120.619509</td>\n",
       "      <td>43.306984</td>\n",
       "    </tr>\n",
       "    <tr>\n",
       "      <th>Married-spouse-absent</th>\n",
       "      <td>40.613057</td>\n",
       "      <td>197523.157643</td>\n",
       "      <td>9.377389</td>\n",
       "      <td>629.004777</td>\n",
       "      <td>63.184713</td>\n",
       "      <td>39.684713</td>\n",
       "    </tr>\n",
       "    <tr>\n",
       "      <th>Never-married</th>\n",
       "      <td>28.128064</td>\n",
       "      <td>195450.902836</td>\n",
       "      <td>9.972141</td>\n",
       "      <td>384.382639</td>\n",
       "      <td>54.126078</td>\n",
       "      <td>36.891357</td>\n",
       "    </tr>\n",
       "    <tr>\n",
       "      <th>Separated</th>\n",
       "      <td>39.725490</td>\n",
       "      <td>202974.111111</td>\n",
       "      <td>9.270588</td>\n",
       "      <td>581.842484</td>\n",
       "      <td>56.618954</td>\n",
       "      <td>39.667974</td>\n",
       "    </tr>\n",
       "    <tr>\n",
       "      <th>Widowed</th>\n",
       "      <td>59.377470</td>\n",
       "      <td>175529.942688</td>\n",
       "      <td>9.088274</td>\n",
       "      <td>603.644269</td>\n",
       "      <td>81.620553</td>\n",
       "      <td>33.438076</td>\n",
       "    </tr>\n",
       "  </tbody>\n",
       "</table>\n",
       "</div>"
      ],
      "text/plain": [
       "                             age         fnlwgt  education-num  capital-gain  \\\n",
       "marital-status                                                                 \n",
       "Divorced               43.159204  184749.693954      10.052917    793.675562   \n",
       "Married-AF-spouse      31.945946  184132.675676      10.432432   2971.621622   \n",
       "Married-civ-spouse     43.353724  186790.582510      10.303275   1739.700612   \n",
       "Married-spouse-absent  40.613057  197523.157643       9.377389    629.004777   \n",
       "Never-married          28.128064  195450.902836       9.972141    384.382639   \n",
       "Separated              39.725490  202974.111111       9.270588    581.842484   \n",
       "Widowed                59.377470  175529.942688       9.088274    603.644269   \n",
       "\n",
       "                       capital-loss  hours-per-week  \n",
       "marital-status                                       \n",
       "Divorced                  67.654304       41.115483  \n",
       "Married-AF-spouse         84.756757       39.810811  \n",
       "Married-civ-spouse       120.619509       43.306984  \n",
       "Married-spouse-absent     63.184713       39.684713  \n",
       "Never-married             54.126078       36.891357  \n",
       "Separated                 56.618954       39.667974  \n",
       "Widowed                   81.620553       33.438076  "
      ]
     },
     "execution_count": 10,
     "metadata": {},
     "output_type": "execute_result"
    }
   ],
   "source": [
    "by_marital_status = adults.groupby(\"marital-status\").mean()\n",
    "by_marital_status"
   ]
  },
  {
   "cell_type": "code",
   "execution_count": 11,
   "id": "a2d328f30ceca584",
   "metadata": {},
   "outputs": [
    {
     "name": "stdout",
     "output_type": "stream",
     "text": [
      "The generated code executed successfully.\n",
      "Approving or improving the generated visualization... 1/10\n",
      "The LLM disapproved the generated visualization and scored it 6.0 / 10. It will attempt to improve it.\n",
      "Error encountered in LLM generated code - Execution error - GridSpecFromSubplotSpec.__init__() missing 1 required positional argument: 'subplot_spec'\n",
      "Attempting to fix the code... (2/10)\n",
      "Error encountered in LLM generated code - Execution error - subplot_spec must be type SubplotSpec, usually from GridSpec, or axes.get_subplotspec.\n",
      "Attempting to fix the code... (3/10)\n",
      "The generated code executed successfully.\n",
      "Approving or improving the generated visualization... 4/10\n",
      "The LLM disapproved the generated visualization and scored it 0.0 / 10. It will attempt to improve it.\n",
      "The generated code executed successfully.\n",
      "Approving or improving the generated visualization... 5/10\n",
      "The LLM disapproved the generated visualization and scored it 0.0 / 10. It will attempt to improve it.\n",
      "The generated code executed successfully.\n",
      "Approving or improving the generated visualization... 6/10\n",
      "The LLM disapproved the generated visualization and scored it 5.0 / 10. It will attempt to improve it.\n",
      "The generated code executed successfully.\n",
      "Approving or improving the generated visualization... 7/10\n",
      "The LLM disapproved the generated visualization and scored it 7.0 / 10. It will attempt to improve it.\n",
      "The generated code executed successfully.\n",
      "Approving or improving the generated visualization... 8/10\n",
      "The LLM disapproved the generated visualization and scored it 7.0 / 10. It will attempt to improve it.\n",
      "The generated code executed successfully.\n",
      "Approving or improving the generated visualization... 9/10\n",
      "The LLM disapproved the generated visualization and scored it 8.0 / 10. It will attempt to improve it.\n",
      "The generated code executed successfully.\n",
      "Approving or improving the generated visualization... 10/10\n",
      "The LLM disapproved the generated visualization and scored it 0.0 / 10. It will attempt to improve it.\n"
     ]
    },
    {
     "data": {
      "application/vnd.jupyter.widget-view+json": {
       "model_id": "8b561be4e9b34082886d389fa6d5435b",
       "version_major": 2,
       "version_minor": 0
      },
      "text/plain": [
       "Tab(children=(Output(), Output()), selected_index=0, titles=('Original Visualization', 'Beautified Visualizati…"
      ]
     },
     "metadata": {},
     "output_type": "display_data"
    }
   ],
   "source": [
    "by_marital_status.explain(top_k=4,\n",
    "                           explainer='metainsight',\n",
    "                           beautify=True,\n",
    "                          add_llm_explanation_reasoning=True,\n",
    "                          silent_beautify=False)"
   ]
  },
  {
   "cell_type": "code",
   "execution_count": null,
   "id": "d0968c3b-ef2e-4a97-83df-ad75257c96c6",
   "metadata": {},
   "outputs": [],
   "source": []
  }
 ],
 "metadata": {
  "kernelspec": {
   "display_name": "Python 3 (ipykernel)",
   "language": "python",
   "name": "python3"
  },
  "language_info": {
   "codemirror_mode": {
    "name": "ipython",
    "version": 3
   },
   "file_extension": ".py",
   "mimetype": "text/x-python",
   "name": "python",
   "nbconvert_exporter": "python",
   "pygments_lexer": "ipython3",
   "version": "3.12.7"
  },
  "widgets": {
   "application/vnd.jupyter.widget-state+json": {
    "state": {},
    "version_major": 2,
    "version_minor": 0
   }
  }
 },
 "nbformat": 4,
 "nbformat_minor": 5
}
