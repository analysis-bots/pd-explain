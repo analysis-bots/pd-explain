{
 "cells": [
  {
   "metadata": {},
   "cell_type": "markdown",
   "source": "# Experimental - LLM Query Recommender",
   "id": "85f32b486e6007f"
  },
  {
   "metadata": {},
   "cell_type": "markdown",
   "source": [
    "PD-Explain supports recommending interesting queries using a LLM.\\\n",
    "We can use the LLM to generate queries based on the provided DataFrame and the history of queries.\\\n",
    "This process is done in two steps:\n",
    "1. Generate a list of queries using the LLM, based on the DataFrame and the history of queries.\n",
    "2. Let the LLM create a set of custom interestingness metrics and constraints for the queries.\n",
    "3. Refine the queries using the LLM, utilizing an actor-critic approach to create more interesting queries using our defined interestingness metrics + the custom metrics and constraints provided by the LLM.\n",
    "\n",
    "The LLM will try to generate queries that maximize the interestingness scores as measured by pd-explain.\n",
    "\n",
    "By default, we generate 5 queries, but you can change this by setting the `num_recommendations` parameter.\\\n",
    "You can also set the `num_iterations` parameter to modify to the number of iterations used to refine the queries. This is set to 3 by default. Note that each iteration calls the LLM twice, so this may take a while to run.\\\n",
    "Overall, there will be 2 + 2 * `num_iterations` calls to the LLM, so be careful with the number of iterations you set.\\\n",
    "\\\n",
    "Additionally, there are the optional parameters:\n",
    "  * `custom_requests` - which allows you to provide additional requests to the LLM. Defaults to `None`.\n",
    "  * `return_all_options` - if `True`, will return every query generated throughout the process instead of just the top `k = num_recommendations` queries. Defaults to `True`.\n",
    "\n",
    "The score you get back from the recommendation process is always between 0 and 1, and is based on the scores we give when choosing and creating explanations.\\\n",
    "Note that because this process utilizes LLMs, you will likely get different recommendations every time you run this.\n",
    "\n",
    "Due to the experimental nature of this feature, it is:\n",
    "1. Logging is disabled by default, and you will need to enable it explicitly if you want to log the queries.\n",
    "2. The recommender currently uses the same setup as the LLM reasoning feature (see LLM Features Demo notebook), so you will need to set up the LLM API key and model for that feature to use the recommender."
   ],
   "id": "992263f310586762"
  },
  {
   "metadata": {
    "ExecuteTime": {
     "end_time": "2025-08-18T14:10:37.316478Z",
     "start_time": "2025-08-18T14:10:37.001927Z"
    }
   },
   "cell_type": "code",
   "source": "import pandas as pd",
   "id": "65d23797f17235a6",
   "outputs": [],
   "execution_count": 1
  },
  {
   "metadata": {
    "ExecuteTime": {
     "end_time": "2025-08-18T14:10:37.395176Z",
     "start_time": "2025-08-18T14:10:37.318817Z"
    }
   },
   "cell_type": "code",
   "source": "adults = pd.read_csv(r\"../../../Datasets/adult.csv\")",
   "id": "c99f7b09dbc460fb",
   "outputs": [],
   "execution_count": 2
  },
  {
   "metadata": {},
   "cell_type": "code",
   "outputs": [],
   "execution_count": null,
   "source": "adults.llm_recommend(num_recommendations=5, num_iterations=3)",
   "id": "cd33b5e32f2ecdf5"
  },
  {
   "metadata": {},
   "cell_type": "markdown",
   "source": "After getting the recommendations, you can copy the queries to your clipboard and use them in your code.",
   "id": "d5901d67ff1bc1d1"
  },
  {
   "metadata": {},
   "cell_type": "markdown",
   "source": "### Logging as part of the recommender",
   "id": "fb87719e3cde333f"
  },
  {
   "metadata": {},
   "cell_type": "markdown",
   "source": [
    "To recommend queries, PD-Explain logs queries that you choose to explain using the FEDEx explainer.\\\n",
    "Note that this is disabled by default, and you will need to enable it explicitly.\\\n",
    "\\\n",
    "The logging is done locally and will never be sent outside of your machine by PD-Explain.\\\n",
    "If you would like to disable logging however, you can use:"
   ],
   "id": "c02a0d12a4b68c04"
  },
  {
   "metadata": {},
   "cell_type": "code",
   "outputs": [],
   "execution_count": null,
   "source": [
    "from pd_explain.experimental.query_recommenders import QueryLogger\n",
    "logger = QueryLogger()\n",
    "logger.use_logging = False"
   ],
   "id": "a3a61936c2dfd845"
  },
  {
   "metadata": {},
   "cell_type": "markdown",
   "source": [
    "This will disable logging entirely on your machine, until you set it back to `True`.\\\n",
    "You can also delete the log using:"
   ],
   "id": "5c3ec181f76f85a5"
  },
  {
   "metadata": {},
   "cell_type": "code",
   "outputs": [],
   "execution_count": null,
   "source": "logger.delete_log()",
   "id": "b3f7540dea77b889"
  },
  {
   "metadata": {},
   "cell_type": "markdown",
   "source": "You can also disable logging for each individual query you make, by passing the `log_query` parameter to the `explain` method.",
   "id": "4bd0ece798f4c7e5"
  }
 ],
 "metadata": {
  "kernelspec": {
   "display_name": "Python 3",
   "language": "python",
   "name": "python3"
  },
  "language_info": {
   "codemirror_mode": {
    "name": "ipython",
    "version": 2
   },
   "file_extension": ".py",
   "mimetype": "text/x-python",
   "name": "python",
   "nbconvert_exporter": "python",
   "pygments_lexer": "ipython2",
   "version": "2.7.6"
  }
 },
 "nbformat": 4,
 "nbformat_minor": 5
}
