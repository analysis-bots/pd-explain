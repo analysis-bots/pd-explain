{
 "cells": [
  {
   "cell_type": "code",
   "id": "initial_id",
   "metadata": {
    "collapsed": true,
    "ExecuteTime": {
     "end_time": "2024-12-23T14:28:59.978921Z",
     "start_time": "2024-12-23T14:28:57.154171Z"
    }
   },
   "source": [
    "import pandas as pd\n",
    "import pd_explain"
   ],
   "outputs": [
    {
     "name": "stdout",
     "output_type": "stream",
     "text": [
      "usetex-False\n",
      "(CVXPY) Dec 23 04:28:59 PM: Encountered unexpected exception importing solver GLOP:\n",
      "RuntimeError('Unrecognized new version of ortools (9.11.4210). Expected < 9.10.0. Please open a feature request on cvxpy to enable support for this version.')\n",
      "(CVXPY) Dec 23 04:28:59 PM: Encountered unexpected exception importing solver PDLP:\n",
      "RuntimeError('Unrecognized new version of ortools (9.11.4210). Expected < 9.10.0. Please open a feature request on cvxpy to enable support for this version.')\n"
     ]
    }
   ],
   "execution_count": 1
  },
  {
   "metadata": {
    "ExecuteTime": {
     "end_time": "2024-12-23T14:29:00.079741Z",
     "start_time": "2024-12-23T14:28:59.982819Z"
    }
   },
   "cell_type": "code",
   "source": "adults = pd.read_csv(r\"..\\Examples\\Datasets\\adult.csv\")",
   "id": "ef95e92f5a6727ec",
   "outputs": [],
   "execution_count": 2
  },
  {
   "metadata": {},
   "cell_type": "markdown",
   "source": "# Using the many to one explainer on the entire dataset:",
   "id": "d990ba77c068ce53"
  },
  {
   "metadata": {},
   "cell_type": "markdown",
   "source": "Using the many to one explainer on a column from the dataset that has a many to one relationship with other columns (the visualization uses PCA for dimensionality reduction):",
   "id": "dedf3311538747c2"
  },
  {
   "metadata": {
    "ExecuteTime": {
     "end_time": "2024-12-23T13:56:44.643732Z",
     "start_time": "2024-12-23T13:56:36.775308Z"
    }
   },
   "cell_type": "code",
   "source": "adults.explain(explainer='many_to_one', labels='label', coverage_threshold=0.8, separation_threshold=0.2)",
   "id": "2a9b288bf27a8172",
   "outputs": [
    {
     "data": {
      "text/plain": [
       "Tab(children=(Tab(children=(Box(children=(Output(),)), HTMLMath(value='\\n                    <h2>Explanation q…"
      ],
      "application/vnd.jupyter.widget-view+json": {
       "version_major": 2,
       "version_minor": 0,
       "model_id": "7461349cf6c846168d67622cd8deecb3"
      }
     },
     "execution_count": 3,
     "metadata": {},
     "output_type": "execute_result"
    }
   ],
   "execution_count": 3
  },
  {
   "metadata": {},
   "cell_type": "markdown",
   "source": "# Using the many to one explainer on a subset of the dataset:",
   "id": "ceb5f2a48404b305"
  },
  {
   "metadata": {},
   "cell_type": "markdown",
   "source": "Using the many to one explainer on subsets of the data, that only contain numerical / categorical columns:",
   "id": "5fec22a8ea1ad12c"
  },
  {
   "metadata": {
    "ExecuteTime": {
     "end_time": "2024-12-23T14:00:09.168645Z",
     "start_time": "2024-12-23T14:00:09.143308Z"
    }
   },
   "cell_type": "code",
   "source": [
    "adults_numeric_only = adults[['age', 'fnlwgt', 'education-num', 'capital-gain', 'capital-loss', 'hours-per-week']]\n",
    "adults_numeric_only"
   ],
   "id": "8b3edd6396375aaa",
   "outputs": [
    {
     "data": {
      "text/plain": [
       "       age  fnlwgt  education-num  capital-gain  capital-loss  hours-per-week\n",
       "0       39   77516             13          2174             0              40\n",
       "1       50   83311             13             0             0              13\n",
       "2       38  215646              9             0             0              40\n",
       "3       53  234721              7             0             0              40\n",
       "4       28  338409             13             0             0              40\n",
       "...    ...     ...            ...           ...           ...             ...\n",
       "48837   39  215419             13             0             0              36\n",
       "48838   64  321403              9             0             0              40\n",
       "48839   38  374983             13             0             0              50\n",
       "48840   44   83891             13          5455             0              40\n",
       "48841   35  182148             13             0             0              60\n",
       "\n",
       "[48842 rows x 6 columns]"
      ],
      "text/html": [
       "<div>\n",
       "<style scoped>\n",
       "    .dataframe tbody tr th:only-of-type {\n",
       "        vertical-align: middle;\n",
       "    }\n",
       "\n",
       "    .dataframe tbody tr th {\n",
       "        vertical-align: top;\n",
       "    }\n",
       "\n",
       "    .dataframe thead th {\n",
       "        text-align: right;\n",
       "    }\n",
       "</style>\n",
       "<table border=\"1\" class=\"dataframe\">\n",
       "  <thead>\n",
       "    <tr style=\"text-align: right;\">\n",
       "      <th></th>\n",
       "      <th>age</th>\n",
       "      <th>fnlwgt</th>\n",
       "      <th>education-num</th>\n",
       "      <th>capital-gain</th>\n",
       "      <th>capital-loss</th>\n",
       "      <th>hours-per-week</th>\n",
       "    </tr>\n",
       "  </thead>\n",
       "  <tbody>\n",
       "    <tr>\n",
       "      <th>0</th>\n",
       "      <td>39</td>\n",
       "      <td>77516</td>\n",
       "      <td>13</td>\n",
       "      <td>2174</td>\n",
       "      <td>0</td>\n",
       "      <td>40</td>\n",
       "    </tr>\n",
       "    <tr>\n",
       "      <th>1</th>\n",
       "      <td>50</td>\n",
       "      <td>83311</td>\n",
       "      <td>13</td>\n",
       "      <td>0</td>\n",
       "      <td>0</td>\n",
       "      <td>13</td>\n",
       "    </tr>\n",
       "    <tr>\n",
       "      <th>2</th>\n",
       "      <td>38</td>\n",
       "      <td>215646</td>\n",
       "      <td>9</td>\n",
       "      <td>0</td>\n",
       "      <td>0</td>\n",
       "      <td>40</td>\n",
       "    </tr>\n",
       "    <tr>\n",
       "      <th>3</th>\n",
       "      <td>53</td>\n",
       "      <td>234721</td>\n",
       "      <td>7</td>\n",
       "      <td>0</td>\n",
       "      <td>0</td>\n",
       "      <td>40</td>\n",
       "    </tr>\n",
       "    <tr>\n",
       "      <th>4</th>\n",
       "      <td>28</td>\n",
       "      <td>338409</td>\n",
       "      <td>13</td>\n",
       "      <td>0</td>\n",
       "      <td>0</td>\n",
       "      <td>40</td>\n",
       "    </tr>\n",
       "    <tr>\n",
       "      <th>...</th>\n",
       "      <td>...</td>\n",
       "      <td>...</td>\n",
       "      <td>...</td>\n",
       "      <td>...</td>\n",
       "      <td>...</td>\n",
       "      <td>...</td>\n",
       "    </tr>\n",
       "    <tr>\n",
       "      <th>48837</th>\n",
       "      <td>39</td>\n",
       "      <td>215419</td>\n",
       "      <td>13</td>\n",
       "      <td>0</td>\n",
       "      <td>0</td>\n",
       "      <td>36</td>\n",
       "    </tr>\n",
       "    <tr>\n",
       "      <th>48838</th>\n",
       "      <td>64</td>\n",
       "      <td>321403</td>\n",
       "      <td>9</td>\n",
       "      <td>0</td>\n",
       "      <td>0</td>\n",
       "      <td>40</td>\n",
       "    </tr>\n",
       "    <tr>\n",
       "      <th>48839</th>\n",
       "      <td>38</td>\n",
       "      <td>374983</td>\n",
       "      <td>13</td>\n",
       "      <td>0</td>\n",
       "      <td>0</td>\n",
       "      <td>50</td>\n",
       "    </tr>\n",
       "    <tr>\n",
       "      <th>48840</th>\n",
       "      <td>44</td>\n",
       "      <td>83891</td>\n",
       "      <td>13</td>\n",
       "      <td>5455</td>\n",
       "      <td>0</td>\n",
       "      <td>40</td>\n",
       "    </tr>\n",
       "    <tr>\n",
       "      <th>48841</th>\n",
       "      <td>35</td>\n",
       "      <td>182148</td>\n",
       "      <td>13</td>\n",
       "      <td>0</td>\n",
       "      <td>0</td>\n",
       "      <td>60</td>\n",
       "    </tr>\n",
       "  </tbody>\n",
       "</table>\n",
       "<p>48842 rows × 6 columns</p>\n",
       "</div>"
      ]
     },
     "execution_count": 4,
     "metadata": {},
     "output_type": "execute_result"
    }
   ],
   "execution_count": 4
  },
  {
   "metadata": {},
   "cell_type": "markdown",
   "source": "Just like we could provide a column name (if it is a column in the dataset), we can also pass a pandas series as the labels parameter:",
   "id": "9e57d530c4c4282f"
  },
  {
   "metadata": {
    "ExecuteTime": {
     "end_time": "2024-12-23T14:04:27.423090Z",
     "start_time": "2024-12-23T14:04:27.414004Z"
    }
   },
   "cell_type": "code",
   "source": "labels = adults['label']",
   "id": "b2ae005590fc3357",
   "outputs": [],
   "execution_count": 4
  },
  {
   "metadata": {
    "ExecuteTime": {
     "end_time": "2024-12-23T14:00:18.633977Z",
     "start_time": "2024-12-23T14:00:11.675573Z"
    }
   },
   "cell_type": "code",
   "source": "adults_numeric_only.explain(explainer='many_to_one', labels=labels, coverage_threshold=0.8, separation_threshold=0.2)",
   "id": "5bd736d42f6a62eb",
   "outputs": [
    {
     "data": {
      "text/plain": [
       "Tab(children=(Tab(children=(Box(children=(Output(),)), HTMLMath(value='\\n                    <h2>Explanation q…"
      ],
      "application/vnd.jupyter.widget-view+json": {
       "version_major": 2,
       "version_minor": 0,
       "model_id": "69b693b4d11a4fd390b87c5550ec1f0f"
      }
     },
     "execution_count": 6,
     "metadata": {},
     "output_type": "execute_result"
    }
   ],
   "execution_count": 6
  },
  {
   "metadata": {
    "ExecuteTime": {
     "end_time": "2024-12-23T14:00:34.643924Z",
     "start_time": "2024-12-23T14:00:34.615294Z"
    }
   },
   "cell_type": "code",
   "source": [
    "adults_categorical_only = adults[['workclass', 'education', 'marital-status', 'occupation', 'relationship']]\n",
    "adults_categorical_only"
   ],
   "id": "829f89e793a24932",
   "outputs": [
    {
     "data": {
      "text/plain": [
       "              workclass  education      marital-status         occupation  \\\n",
       "0             State-gov  Bachelors       Never-married       Adm-clerical   \n",
       "1      Self-emp-not-inc  Bachelors  Married-civ-spouse    Exec-managerial   \n",
       "2               Private    HS-grad            Divorced  Handlers-cleaners   \n",
       "3               Private       11th  Married-civ-spouse  Handlers-cleaners   \n",
       "4               Private  Bachelors  Married-civ-spouse     Prof-specialty   \n",
       "...                 ...        ...                 ...                ...   \n",
       "48837           Private  Bachelors            Divorced     Prof-specialty   \n",
       "48838                 ?    HS-grad             Widowed                  ?   \n",
       "48839           Private  Bachelors  Married-civ-spouse     Prof-specialty   \n",
       "48840           Private  Bachelors            Divorced       Adm-clerical   \n",
       "48841      Self-emp-inc  Bachelors  Married-civ-spouse    Exec-managerial   \n",
       "\n",
       "         relationship  \n",
       "0       Not-in-family  \n",
       "1             Husband  \n",
       "2       Not-in-family  \n",
       "3             Husband  \n",
       "4                Wife  \n",
       "...               ...  \n",
       "48837   Not-in-family  \n",
       "48838  Other-relative  \n",
       "48839         Husband  \n",
       "48840       Own-child  \n",
       "48841         Husband  \n",
       "\n",
       "[48842 rows x 5 columns]"
      ],
      "text/html": [
       "<div>\n",
       "<style scoped>\n",
       "    .dataframe tbody tr th:only-of-type {\n",
       "        vertical-align: middle;\n",
       "    }\n",
       "\n",
       "    .dataframe tbody tr th {\n",
       "        vertical-align: top;\n",
       "    }\n",
       "\n",
       "    .dataframe thead th {\n",
       "        text-align: right;\n",
       "    }\n",
       "</style>\n",
       "<table border=\"1\" class=\"dataframe\">\n",
       "  <thead>\n",
       "    <tr style=\"text-align: right;\">\n",
       "      <th></th>\n",
       "      <th>workclass</th>\n",
       "      <th>education</th>\n",
       "      <th>marital-status</th>\n",
       "      <th>occupation</th>\n",
       "      <th>relationship</th>\n",
       "    </tr>\n",
       "  </thead>\n",
       "  <tbody>\n",
       "    <tr>\n",
       "      <th>0</th>\n",
       "      <td>State-gov</td>\n",
       "      <td>Bachelors</td>\n",
       "      <td>Never-married</td>\n",
       "      <td>Adm-clerical</td>\n",
       "      <td>Not-in-family</td>\n",
       "    </tr>\n",
       "    <tr>\n",
       "      <th>1</th>\n",
       "      <td>Self-emp-not-inc</td>\n",
       "      <td>Bachelors</td>\n",
       "      <td>Married-civ-spouse</td>\n",
       "      <td>Exec-managerial</td>\n",
       "      <td>Husband</td>\n",
       "    </tr>\n",
       "    <tr>\n",
       "      <th>2</th>\n",
       "      <td>Private</td>\n",
       "      <td>HS-grad</td>\n",
       "      <td>Divorced</td>\n",
       "      <td>Handlers-cleaners</td>\n",
       "      <td>Not-in-family</td>\n",
       "    </tr>\n",
       "    <tr>\n",
       "      <th>3</th>\n",
       "      <td>Private</td>\n",
       "      <td>11th</td>\n",
       "      <td>Married-civ-spouse</td>\n",
       "      <td>Handlers-cleaners</td>\n",
       "      <td>Husband</td>\n",
       "    </tr>\n",
       "    <tr>\n",
       "      <th>4</th>\n",
       "      <td>Private</td>\n",
       "      <td>Bachelors</td>\n",
       "      <td>Married-civ-spouse</td>\n",
       "      <td>Prof-specialty</td>\n",
       "      <td>Wife</td>\n",
       "    </tr>\n",
       "    <tr>\n",
       "      <th>...</th>\n",
       "      <td>...</td>\n",
       "      <td>...</td>\n",
       "      <td>...</td>\n",
       "      <td>...</td>\n",
       "      <td>...</td>\n",
       "    </tr>\n",
       "    <tr>\n",
       "      <th>48837</th>\n",
       "      <td>Private</td>\n",
       "      <td>Bachelors</td>\n",
       "      <td>Divorced</td>\n",
       "      <td>Prof-specialty</td>\n",
       "      <td>Not-in-family</td>\n",
       "    </tr>\n",
       "    <tr>\n",
       "      <th>48838</th>\n",
       "      <td>?</td>\n",
       "      <td>HS-grad</td>\n",
       "      <td>Widowed</td>\n",
       "      <td>?</td>\n",
       "      <td>Other-relative</td>\n",
       "    </tr>\n",
       "    <tr>\n",
       "      <th>48839</th>\n",
       "      <td>Private</td>\n",
       "      <td>Bachelors</td>\n",
       "      <td>Married-civ-spouse</td>\n",
       "      <td>Prof-specialty</td>\n",
       "      <td>Husband</td>\n",
       "    </tr>\n",
       "    <tr>\n",
       "      <th>48840</th>\n",
       "      <td>Private</td>\n",
       "      <td>Bachelors</td>\n",
       "      <td>Divorced</td>\n",
       "      <td>Adm-clerical</td>\n",
       "      <td>Own-child</td>\n",
       "    </tr>\n",
       "    <tr>\n",
       "      <th>48841</th>\n",
       "      <td>Self-emp-inc</td>\n",
       "      <td>Bachelors</td>\n",
       "      <td>Married-civ-spouse</td>\n",
       "      <td>Exec-managerial</td>\n",
       "      <td>Husband</td>\n",
       "    </tr>\n",
       "  </tbody>\n",
       "</table>\n",
       "<p>48842 rows × 5 columns</p>\n",
       "</div>"
      ]
     },
     "execution_count": 7,
     "metadata": {},
     "output_type": "execute_result"
    }
   ],
   "execution_count": 7
  },
  {
   "metadata": {
    "ExecuteTime": {
     "end_time": "2024-12-23T14:01:14.965641Z",
     "start_time": "2024-12-23T14:01:13.494914Z"
    }
   },
   "cell_type": "code",
   "source": "adults_categorical_only.explain(explainer='many_to_one', labels=labels, coverage_threshold=0.8, separation_threshold=0.2)",
   "id": "d9f37cb82a8ca17a",
   "outputs": [
    {
     "data": {
      "text/plain": [
       "Tab(children=(Tab(children=(Box(children=(Output(),)), HTMLMath(value='\\n                    <h2>Explanation q…"
      ],
      "application/vnd.jupyter.widget-view+json": {
       "version_major": 2,
       "version_minor": 0,
       "model_id": "f2cea97d52bc477cbe4f094027af3333"
      }
     },
     "execution_count": 8,
     "metadata": {},
     "output_type": "execute_result"
    }
   ],
   "execution_count": 8
  },
  {
   "metadata": {},
   "cell_type": "markdown",
   "source": "We can also specify only specific columns to be used in the many to one explainer:",
   "id": "9418971f2a1f3d23"
  },
  {
   "metadata": {
    "ExecuteTime": {
     "end_time": "2024-12-23T14:06:54.815559Z",
     "start_time": "2024-12-23T14:06:52.926101Z"
    }
   },
   "cell_type": "code",
   "source": "adults.explain(explainer='many_to_one', select_columns=['age', 'education', 'marital-status', 'relationship'], labels='label', coverage_threshold=0.8, separation_threshold=0.5)",
   "id": "bcf7524350f5386c",
   "outputs": [
    {
     "data": {
      "text/plain": [
       "Tab(children=(Tab(children=(Box(children=(Output(),)), HTMLMath(value='\\n                    <h2>Explanation q…"
      ],
      "application/vnd.jupyter.widget-view+json": {
       "version_major": 2,
       "version_minor": 0,
       "model_id": "aa2a282672ad4667a74f50e498796b91"
      }
     },
     "execution_count": 4,
     "metadata": {},
     "output_type": "execute_result"
    }
   ],
   "execution_count": 4
  },
  {
   "metadata": {},
   "cell_type": "markdown",
   "source": "# Using many to one explainer with clustering labels:",
   "id": "f9acdbf1b82edff9"
  },
  {
   "metadata": {
    "ExecuteTime": {
     "end_time": "2024-12-23T14:08:03.965436Z",
     "start_time": "2024-12-23T14:08:03.916658Z"
    }
   },
   "cell_type": "code",
   "source": "from sklearn.cluster import KMeans",
   "id": "882b5305732b050b",
   "outputs": [],
   "execution_count": 5
  },
  {
   "metadata": {
    "ExecuteTime": {
     "end_time": "2024-12-23T14:08:04.419087Z",
     "start_time": "2024-12-23T14:08:04.362119Z"
    }
   },
   "cell_type": "code",
   "source": "adults_with_dummies = pd.get_dummies(adults)",
   "id": "f679aee98cba5c58",
   "outputs": [],
   "execution_count": 6
  },
  {
   "metadata": {},
   "cell_type": "code",
   "source": "cluster_labels = KMeans(n_clusters=5).fit_predict(adults_with_dummies)",
   "id": "38c48329f65e62ab",
   "outputs": [],
   "execution_count": null
  },
  {
   "metadata": {
    "ExecuteTime": {
     "end_time": "2024-12-23T14:09:35.343932Z",
     "start_time": "2024-12-23T14:09:03.838539Z"
    }
   },
   "cell_type": "code",
   "source": "adults.explain(explainer='many_to_one', labels=cluster_labels, coverage_threshold=0.8, separation_threshold=0.2)",
   "id": "a75f39931172b551",
   "outputs": [
    {
     "data": {
      "text/plain": [
       "Tab(children=(Tab(children=(Box(children=(Output(),)), HTMLMath(value='\\n                    <h2>Explanation q…"
      ],
      "application/vnd.jupyter.widget-view+json": {
       "version_major": 2,
       "version_minor": 0,
       "model_id": "9dd1e4ef1873480c82962210316cd02e"
      }
     },
     "execution_count": 9,
     "metadata": {},
     "output_type": "execute_result"
    }
   ],
   "execution_count": 9
  },
  {
   "metadata": {},
   "cell_type": "markdown",
   "source": "# Using many to one explainer to explain groupby groups:",
   "id": "4e7b5f8ce6f13e3f"
  },
  {
   "metadata": {},
   "cell_type": "markdown",
   "source": "Many to one explainer can also be used to explain groupby groups. It can work with single or multiple attributes groupby:",
   "id": "6d61a04c8350348"
  },
  {
   "metadata": {
    "ExecuteTime": {
     "end_time": "2024-12-23T14:15:44.479309Z",
     "start_time": "2024-12-23T14:15:44.333890Z"
    }
   },
   "cell_type": "code",
   "source": [
    "single_attribute_groupby = adults.groupby('relationship').mean()\n",
    "single_attribute_groupby"
   ],
   "id": "3aeace5bafe75e33",
   "outputs": [
    {
     "data": {
      "text/plain": [
       "                      age         fnlwgt  education-num  capital-gain  \\\n",
       "relationship                                                            \n",
       "Husband         43.906066  187193.324102      10.305133   1774.499797   \n",
       "Not-in-family   38.421601  190352.245013      10.326870    783.963284   \n",
       "Other-relative  33.420983  203524.602258       8.849270    234.989376   \n",
       "Own-child       24.794090  193782.299697       9.494394    174.381480   \n",
       "Unmarried       40.312195  191370.284878       9.631610    450.863805   \n",
       "Wife            40.078507  180748.781639      10.488631   1658.779923   \n",
       "\n",
       "                capital-loss  hours-per-week  \n",
       "relationship                                  \n",
       "Husband           122.200649       44.166109  \n",
       "Not-in-family      76.840817       40.529842  \n",
       "Other-relative     49.920983       37.128154  \n",
       "Own-child          41.276217       33.142461  \n",
       "Unmarried          46.638634       39.172488  \n",
       "Wife              116.033033       36.729730  "
      ],
      "text/html": [
       "<div>\n",
       "<style scoped>\n",
       "    .dataframe tbody tr th:only-of-type {\n",
       "        vertical-align: middle;\n",
       "    }\n",
       "\n",
       "    .dataframe tbody tr th {\n",
       "        vertical-align: top;\n",
       "    }\n",
       "\n",
       "    .dataframe thead th {\n",
       "        text-align: right;\n",
       "    }\n",
       "</style>\n",
       "<table border=\"1\" class=\"dataframe\">\n",
       "  <thead>\n",
       "    <tr style=\"text-align: right;\">\n",
       "      <th></th>\n",
       "      <th>age</th>\n",
       "      <th>fnlwgt</th>\n",
       "      <th>education-num</th>\n",
       "      <th>capital-gain</th>\n",
       "      <th>capital-loss</th>\n",
       "      <th>hours-per-week</th>\n",
       "    </tr>\n",
       "    <tr>\n",
       "      <th>relationship</th>\n",
       "      <th></th>\n",
       "      <th></th>\n",
       "      <th></th>\n",
       "      <th></th>\n",
       "      <th></th>\n",
       "      <th></th>\n",
       "    </tr>\n",
       "  </thead>\n",
       "  <tbody>\n",
       "    <tr>\n",
       "      <th>Husband</th>\n",
       "      <td>43.906066</td>\n",
       "      <td>187193.324102</td>\n",
       "      <td>10.305133</td>\n",
       "      <td>1774.499797</td>\n",
       "      <td>122.200649</td>\n",
       "      <td>44.166109</td>\n",
       "    </tr>\n",
       "    <tr>\n",
       "      <th>Not-in-family</th>\n",
       "      <td>38.421601</td>\n",
       "      <td>190352.245013</td>\n",
       "      <td>10.326870</td>\n",
       "      <td>783.963284</td>\n",
       "      <td>76.840817</td>\n",
       "      <td>40.529842</td>\n",
       "    </tr>\n",
       "    <tr>\n",
       "      <th>Other-relative</th>\n",
       "      <td>33.420983</td>\n",
       "      <td>203524.602258</td>\n",
       "      <td>8.849270</td>\n",
       "      <td>234.989376</td>\n",
       "      <td>49.920983</td>\n",
       "      <td>37.128154</td>\n",
       "    </tr>\n",
       "    <tr>\n",
       "      <th>Own-child</th>\n",
       "      <td>24.794090</td>\n",
       "      <td>193782.299697</td>\n",
       "      <td>9.494394</td>\n",
       "      <td>174.381480</td>\n",
       "      <td>41.276217</td>\n",
       "      <td>33.142461</td>\n",
       "    </tr>\n",
       "    <tr>\n",
       "      <th>Unmarried</th>\n",
       "      <td>40.312195</td>\n",
       "      <td>191370.284878</td>\n",
       "      <td>9.631610</td>\n",
       "      <td>450.863805</td>\n",
       "      <td>46.638634</td>\n",
       "      <td>39.172488</td>\n",
       "    </tr>\n",
       "    <tr>\n",
       "      <th>Wife</th>\n",
       "      <td>40.078507</td>\n",
       "      <td>180748.781639</td>\n",
       "      <td>10.488631</td>\n",
       "      <td>1658.779923</td>\n",
       "      <td>116.033033</td>\n",
       "      <td>36.729730</td>\n",
       "    </tr>\n",
       "  </tbody>\n",
       "</table>\n",
       "</div>"
      ]
     },
     "execution_count": 13,
     "metadata": {},
     "output_type": "execute_result"
    }
   ],
   "execution_count": 13
  },
  {
   "metadata": {},
   "cell_type": "markdown",
   "source": "To explain a groupby's groups, we can use the explainer on the groupby dataframe without specifying the labels parameter:",
   "id": "a4dbfc9da34a3a9"
  },
  {
   "metadata": {
    "ExecuteTime": {
     "end_time": "2024-12-23T14:18:02.466589Z",
     "start_time": "2024-12-23T14:17:54.680177Z"
    }
   },
   "cell_type": "code",
   "source": "single_attribute_groupby.explain(explainer='many_to_one', coverage_threshold=0.8, separation_threshold=0.2)",
   "id": "d2cf5cb071b171cf",
   "outputs": [
    {
     "data": {
      "text/plain": [
       "Tab(children=(Tab(children=(Box(children=(Output(),)), HTMLMath(value='\\n                    <h2>Explanation q…"
      ],
      "application/vnd.jupyter.widget-view+json": {
       "version_major": 2,
       "version_minor": 0,
       "model_id": "4e9c9c9068774c389d553294fa4e4bfb"
      }
     },
     "execution_count": 15,
     "metadata": {},
     "output_type": "execute_result"
    }
   ],
   "execution_count": 15
  },
  {
   "metadata": {
    "ExecuteTime": {
     "end_time": "2024-12-23T14:18:41.316660Z",
     "start_time": "2024-12-23T14:18:41.216299Z"
    }
   },
   "cell_type": "code",
   "source": [
    "multi_attribute_groupby = adults.groupby(['sex', 'label']).mean()\n",
    "multi_attribute_groupby"
   ],
   "id": "c144143feda8010b",
   "outputs": [
    {
     "data": {
      "text/plain": [
       "                    age         fnlwgt  education-num  capital-gain  \\\n",
       "sex    label                                                          \n",
       "Female <=50K  36.278999  185690.282604       9.824724    122.876586   \n",
       "       >50K   42.219333  183989.519503      11.832109   4313.663652   \n",
       "Male   <=50K  37.248548  192799.098671       9.454953    162.322673   \n",
       "       >50K   44.641863  189269.827082      11.561908   3993.827586   \n",
       "\n",
       "              capital-loss  hours-per-week  \n",
       "sex    label                                \n",
       "Female <=50K     46.910976       35.875962  \n",
       "       >50K     180.222725       40.678915  \n",
       "Male   <=50K     58.746173       40.720702  \n",
       "       >50K     195.902299       46.304396  "
      ],
      "text/html": [
       "<div>\n",
       "<style scoped>\n",
       "    .dataframe tbody tr th:only-of-type {\n",
       "        vertical-align: middle;\n",
       "    }\n",
       "\n",
       "    .dataframe tbody tr th {\n",
       "        vertical-align: top;\n",
       "    }\n",
       "\n",
       "    .dataframe thead th {\n",
       "        text-align: right;\n",
       "    }\n",
       "</style>\n",
       "<table border=\"1\" class=\"dataframe\">\n",
       "  <thead>\n",
       "    <tr style=\"text-align: right;\">\n",
       "      <th></th>\n",
       "      <th></th>\n",
       "      <th>age</th>\n",
       "      <th>fnlwgt</th>\n",
       "      <th>education-num</th>\n",
       "      <th>capital-gain</th>\n",
       "      <th>capital-loss</th>\n",
       "      <th>hours-per-week</th>\n",
       "    </tr>\n",
       "    <tr>\n",
       "      <th>sex</th>\n",
       "      <th>label</th>\n",
       "      <th></th>\n",
       "      <th></th>\n",
       "      <th></th>\n",
       "      <th></th>\n",
       "      <th></th>\n",
       "      <th></th>\n",
       "    </tr>\n",
       "  </thead>\n",
       "  <tbody>\n",
       "    <tr>\n",
       "      <th rowspan=\"2\" valign=\"top\">Female</th>\n",
       "      <th>&lt;=50K</th>\n",
       "      <td>36.278999</td>\n",
       "      <td>185690.282604</td>\n",
       "      <td>9.824724</td>\n",
       "      <td>122.876586</td>\n",
       "      <td>46.910976</td>\n",
       "      <td>35.875962</td>\n",
       "    </tr>\n",
       "    <tr>\n",
       "      <th>&gt;50K</th>\n",
       "      <td>42.219333</td>\n",
       "      <td>183989.519503</td>\n",
       "      <td>11.832109</td>\n",
       "      <td>4313.663652</td>\n",
       "      <td>180.222725</td>\n",
       "      <td>40.678915</td>\n",
       "    </tr>\n",
       "    <tr>\n",
       "      <th rowspan=\"2\" valign=\"top\">Male</th>\n",
       "      <th>&lt;=50K</th>\n",
       "      <td>37.248548</td>\n",
       "      <td>192799.098671</td>\n",
       "      <td>9.454953</td>\n",
       "      <td>162.322673</td>\n",
       "      <td>58.746173</td>\n",
       "      <td>40.720702</td>\n",
       "    </tr>\n",
       "    <tr>\n",
       "      <th>&gt;50K</th>\n",
       "      <td>44.641863</td>\n",
       "      <td>189269.827082</td>\n",
       "      <td>11.561908</td>\n",
       "      <td>3993.827586</td>\n",
       "      <td>195.902299</td>\n",
       "      <td>46.304396</td>\n",
       "    </tr>\n",
       "  </tbody>\n",
       "</table>\n",
       "</div>"
      ]
     },
     "execution_count": 18,
     "metadata": {},
     "output_type": "execute_result"
    }
   ],
   "execution_count": 18
  },
  {
   "metadata": {
    "ExecuteTime": {
     "end_time": "2024-12-23T14:18:53.685898Z",
     "start_time": "2024-12-23T14:18:44.467382Z"
    }
   },
   "cell_type": "code",
   "source": "multi_attribute_groupby.explain(explainer='many_to_one', coverage_threshold=0.8, separation_threshold=0.55)",
   "id": "e0250bf7ff4e3c3e",
   "outputs": [
    {
     "data": {
      "text/plain": [
       "Tab(children=(Tab(children=(Box(children=(Output(),)), HTMLMath(value='\\n                    <h2>Explanation q…"
      ],
      "application/vnd.jupyter.widget-view+json": {
       "version_major": 2,
       "version_minor": 0,
       "model_id": "1823735071434dd295db245cf5bb4fc2"
      }
     },
     "execution_count": 19,
     "metadata": {},
     "output_type": "execute_result"
    }
   ],
   "execution_count": 19
  },
  {
   "metadata": {},
   "cell_type": "markdown",
   "source": "# Many to one explainer when there are many clusters:",
   "id": "f468987cda100d97"
  },
  {
   "metadata": {
    "ExecuteTime": {
     "end_time": "2024-12-23T14:20:23.246429Z",
     "start_time": "2024-12-23T14:20:23.188500Z"
    }
   },
   "cell_type": "code",
   "source": [
    "from sklearn.cluster import KMeans\n",
    "adults_with_dummies = pd.get_dummies(adults)"
   ],
   "id": "13e1a810617a1cf4",
   "outputs": [],
   "execution_count": 20
  },
  {
   "metadata": {
    "ExecuteTime": {
     "end_time": "2024-12-23T14:23:10.620559Z",
     "start_time": "2024-12-23T14:23:09.851231Z"
    }
   },
   "cell_type": "code",
   "source": "many_clusters = KMeans(n_clusters=11).fit_predict(adults_with_dummies)",
   "id": "6a4ddbaa1f35cf48",
   "outputs": [],
   "execution_count": 23
  },
  {
   "metadata": {},
   "cell_type": "markdown",
   "source": "In the case there are many clusters (over 10), the layout of the plot will be different:",
   "id": "1dedea39b97d2f3f"
  },
  {
   "metadata": {
    "ExecuteTime": {
     "end_time": "2024-12-23T14:24:54.057887Z",
     "start_time": "2024-12-23T14:23:13.542931Z"
    }
   },
   "cell_type": "code",
   "source": "adults.explain(explainer='many_to_one', labels=many_clusters, coverage_threshold=0.8, separation_threshold=0.2)",
   "id": "7f000896ce38ac29",
   "outputs": [
    {
     "data": {
      "text/plain": [
       "Tab(children=(Tab(children=(Box(children=(Output(),)), HTMLMath(value='\\n                    <h2>Explanation q…"
      ],
      "application/vnd.jupyter.widget-view+json": {
       "version_major": 2,
       "version_minor": 0,
       "model_id": "5de2af1e94794f1db2ebe58cb87e1f79"
      }
     },
     "execution_count": 24,
     "metadata": {},
     "output_type": "execute_result"
    }
   ],
   "execution_count": 24
  },
  {
   "metadata": {},
   "cell_type": "markdown",
   "source": "# 3d visualization:",
   "id": "e414b056e53775c1"
  },
  {
   "metadata": {},
   "cell_type": "markdown",
   "source": "Many to one explainer supports both 2d and 3d visualizations:",
   "id": "efef96539c307fed"
  },
  {
   "metadata": {
    "ExecuteTime": {
     "end_time": "2024-12-23T14:29:12.093237Z",
     "start_time": "2024-12-23T14:29:03.247341Z"
    }
   },
   "cell_type": "code",
   "source": "adults.explain(explainer='many_to_one', labels='label', coverage_threshold=0.8, separation_threshold=0.2, visualization_dims=3)",
   "id": "d26ae9b768ed2d54",
   "outputs": [
    {
     "data": {
      "text/plain": [
       "Tab(children=(Tab(children=(Box(children=(Output(),)), HTMLMath(value='\\n                    <h2>Explanation q…"
      ],
      "application/vnd.jupyter.widget-view+json": {
       "version_major": 2,
       "version_minor": 0,
       "model_id": "e0027b669d3f486db5d38b3dd7420b93"
      }
     },
     "execution_count": 3,
     "metadata": {},
     "output_type": "execute_result"
    }
   ],
   "execution_count": 3
  }
 ],
 "metadata": {
  "kernelspec": {
   "display_name": "Python 3",
   "language": "python",
   "name": "python3"
  },
  "language_info": {
   "codemirror_mode": {
    "name": "ipython",
    "version": 2
   },
   "file_extension": ".py",
   "mimetype": "text/x-python",
   "name": "python",
   "nbconvert_exporter": "python",
   "pygments_lexer": "ipython2",
   "version": "2.7.6"
  }
 },
 "nbformat": 4,
 "nbformat_minor": 5
}
