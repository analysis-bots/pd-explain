{
 "cells": [
  {
   "cell_type": "code",
   "id": "initial_id",
   "metadata": {
    "collapsed": true,
    "ExecuteTime": {
     "end_time": "2024-12-27T19:22:46.125144Z",
     "start_time": "2024-12-27T19:22:42.396464Z"
    }
   },
   "source": [
    "import pandas as pd\n",
    "import pd_explain\n",
    "import warnings\n",
    "warnings.filterwarnings(\"ignore\")"
   ],
   "outputs": [
    {
     "name": "stdout",
     "output_type": "stream",
     "text": [
      "usetex-False\n"
     ]
    }
   ],
   "execution_count": 1
  },
  {
   "metadata": {},
   "cell_type": "markdown",
   "source": "# Runtime disclaimer",
   "id": "cef24c358d30f9a7"
  },
  {
   "metadata": {},
   "cell_type": "markdown",
   "source": [
    "Since this is the proof of concept, the recommender is not optimized for performance.\\\n",
    "Running the recommend method may take a long time (between 20 seconds to just over a minute) in this notebook.\\"
   ],
   "id": "382977fe9fad0908"
  },
  {
   "metadata": {},
   "cell_type": "markdown",
   "source": "# Basic Usage",
   "id": "8737a5f3bb56a3a3"
  },
  {
   "metadata": {},
   "cell_type": "markdown",
   "source": [
    "The query recommender can automatically recommend queries to the user based on the data they provide.\\\n",
    "These queries are the ones that are most likely to be of interest to the user."
   ],
   "id": "5ec7470adff7bdf6"
  },
  {
   "metadata": {
    "ExecuteTime": {
     "end_time": "2024-12-27T19:22:46.464830Z",
     "start_time": "2024-12-27T19:22:46.207767Z"
    }
   },
   "cell_type": "code",
   "source": [
    "# Load the adult dataset\n",
    "adults = pd.read_csv(r\"..\\Examples\\Datasets\\adult.csv\")\n",
    "adults.head()"
   ],
   "id": "c088f28135c6174f",
   "outputs": [
    {
     "data": {
      "text/plain": [
       "   age         workclass  fnlwgt  education  education-num  \\\n",
       "0   39         State-gov   77516  Bachelors             13   \n",
       "1   50  Self-emp-not-inc   83311  Bachelors             13   \n",
       "2   38           Private  215646    HS-grad              9   \n",
       "3   53           Private  234721       11th              7   \n",
       "4   28           Private  338409  Bachelors             13   \n",
       "\n",
       "       marital-status         occupation   relationship   race     sex  \\\n",
       "0       Never-married       Adm-clerical  Not-in-family  White    Male   \n",
       "1  Married-civ-spouse    Exec-managerial        Husband  White    Male   \n",
       "2            Divorced  Handlers-cleaners  Not-in-family  White    Male   \n",
       "3  Married-civ-spouse  Handlers-cleaners        Husband  Black    Male   \n",
       "4  Married-civ-spouse     Prof-specialty           Wife  Black  Female   \n",
       "\n",
       "   capital-gain  capital-loss  hours-per-week native-country  label  \n",
       "0          2174             0              40  United-States  <=50K  \n",
       "1             0             0              13  United-States  <=50K  \n",
       "2             0             0              40  United-States  <=50K  \n",
       "3             0             0              40  United-States  <=50K  \n",
       "4             0             0              40           Cuba  <=50K  "
      ],
      "text/html": [
       "<div>\n",
       "<style scoped>\n",
       "    .dataframe tbody tr th:only-of-type {\n",
       "        vertical-align: middle;\n",
       "    }\n",
       "\n",
       "    .dataframe tbody tr th {\n",
       "        vertical-align: top;\n",
       "    }\n",
       "\n",
       "    .dataframe thead th {\n",
       "        text-align: right;\n",
       "    }\n",
       "</style>\n",
       "<table border=\"1\" class=\"dataframe\">\n",
       "  <thead>\n",
       "    <tr style=\"text-align: right;\">\n",
       "      <th></th>\n",
       "      <th>age</th>\n",
       "      <th>workclass</th>\n",
       "      <th>fnlwgt</th>\n",
       "      <th>education</th>\n",
       "      <th>education-num</th>\n",
       "      <th>marital-status</th>\n",
       "      <th>occupation</th>\n",
       "      <th>relationship</th>\n",
       "      <th>race</th>\n",
       "      <th>sex</th>\n",
       "      <th>capital-gain</th>\n",
       "      <th>capital-loss</th>\n",
       "      <th>hours-per-week</th>\n",
       "      <th>native-country</th>\n",
       "      <th>label</th>\n",
       "    </tr>\n",
       "  </thead>\n",
       "  <tbody>\n",
       "    <tr>\n",
       "      <th>0</th>\n",
       "      <td>39</td>\n",
       "      <td>State-gov</td>\n",
       "      <td>77516</td>\n",
       "      <td>Bachelors</td>\n",
       "      <td>13</td>\n",
       "      <td>Never-married</td>\n",
       "      <td>Adm-clerical</td>\n",
       "      <td>Not-in-family</td>\n",
       "      <td>White</td>\n",
       "      <td>Male</td>\n",
       "      <td>2174</td>\n",
       "      <td>0</td>\n",
       "      <td>40</td>\n",
       "      <td>United-States</td>\n",
       "      <td>&lt;=50K</td>\n",
       "    </tr>\n",
       "    <tr>\n",
       "      <th>1</th>\n",
       "      <td>50</td>\n",
       "      <td>Self-emp-not-inc</td>\n",
       "      <td>83311</td>\n",
       "      <td>Bachelors</td>\n",
       "      <td>13</td>\n",
       "      <td>Married-civ-spouse</td>\n",
       "      <td>Exec-managerial</td>\n",
       "      <td>Husband</td>\n",
       "      <td>White</td>\n",
       "      <td>Male</td>\n",
       "      <td>0</td>\n",
       "      <td>0</td>\n",
       "      <td>13</td>\n",
       "      <td>United-States</td>\n",
       "      <td>&lt;=50K</td>\n",
       "    </tr>\n",
       "    <tr>\n",
       "      <th>2</th>\n",
       "      <td>38</td>\n",
       "      <td>Private</td>\n",
       "      <td>215646</td>\n",
       "      <td>HS-grad</td>\n",
       "      <td>9</td>\n",
       "      <td>Divorced</td>\n",
       "      <td>Handlers-cleaners</td>\n",
       "      <td>Not-in-family</td>\n",
       "      <td>White</td>\n",
       "      <td>Male</td>\n",
       "      <td>0</td>\n",
       "      <td>0</td>\n",
       "      <td>40</td>\n",
       "      <td>United-States</td>\n",
       "      <td>&lt;=50K</td>\n",
       "    </tr>\n",
       "    <tr>\n",
       "      <th>3</th>\n",
       "      <td>53</td>\n",
       "      <td>Private</td>\n",
       "      <td>234721</td>\n",
       "      <td>11th</td>\n",
       "      <td>7</td>\n",
       "      <td>Married-civ-spouse</td>\n",
       "      <td>Handlers-cleaners</td>\n",
       "      <td>Husband</td>\n",
       "      <td>Black</td>\n",
       "      <td>Male</td>\n",
       "      <td>0</td>\n",
       "      <td>0</td>\n",
       "      <td>40</td>\n",
       "      <td>United-States</td>\n",
       "      <td>&lt;=50K</td>\n",
       "    </tr>\n",
       "    <tr>\n",
       "      <th>4</th>\n",
       "      <td>28</td>\n",
       "      <td>Private</td>\n",
       "      <td>338409</td>\n",
       "      <td>Bachelors</td>\n",
       "      <td>13</td>\n",
       "      <td>Married-civ-spouse</td>\n",
       "      <td>Prof-specialty</td>\n",
       "      <td>Wife</td>\n",
       "      <td>Black</td>\n",
       "      <td>Female</td>\n",
       "      <td>0</td>\n",
       "      <td>0</td>\n",
       "      <td>40</td>\n",
       "      <td>Cuba</td>\n",
       "      <td>&lt;=50K</td>\n",
       "    </tr>\n",
       "  </tbody>\n",
       "</table>\n",
       "</div>"
      ]
     },
     "execution_count": 2,
     "metadata": {},
     "output_type": "execute_result"
    }
   ],
   "execution_count": 2
  },
  {
   "metadata": {},
   "cell_type": "markdown",
   "source": [
    "The recommender will automatically select attributes that are likely to generate interesting queries,\n",
    "then generate queries based on these attributes.\\\n",
    "\\\n",
    "Right now, the automatic attribute selection uses only 1 correlation based metric, that gives a higher score the more correlated the attribute is with other attributes. This can be extended to include other metrics.\\\n",
    "\\\n",
    "Right now only filter queries are supported, but it is possible to extend the recommender to support other types of queries.\\\n",
    "\\\n",
    "Each type of query has its own recommender object, and calling the `recommend` method from a dataframe will run all of the enabled recommenders (more on how to enable and disable recommenders later).\\\n",
    "Each type of recommendations is shown in its own tab."
   ],
   "id": "fc50e5bca3b70310"
  },
  {
   "metadata": {
    "ExecuteTime": {
     "end_time": "2024-12-27T19:23:38.393572Z",
     "start_time": "2024-12-27T19:22:46.954290Z"
    }
   },
   "cell_type": "code",
   "source": [
    "# Recommend queries\n",
    "adults.recommend()"
   ],
   "id": "48432448091e2b51",
   "outputs": [
    {
     "data": {
      "text/plain": [
       "HTML(value='\\n                <style>\\n                .jupyter-widgets.widget-tab > .p-TabBar {\\n            …"
      ],
      "application/vnd.jupyter.widget-view+json": {
       "version_major": 2,
       "version_minor": 0,
       "model_id": "e9804461afd3471fa44141d99af68d37"
      }
     },
     "metadata": {},
     "output_type": "display_data"
    },
    {
     "data": {
      "text/plain": [
       "HTML(value='\\n        <style>\\n        .jupyter-widgets.widget-tab > .p-TabBar .p-TabBar-tab {\\n            fl…"
      ],
      "application/vnd.jupyter.widget-view+json": {
       "version_major": 2,
       "version_minor": 0,
       "model_id": "f563e67518a44a64a9eebceead1d449d"
      }
     },
     "metadata": {},
     "output_type": "display_data"
    },
    {
     "data": {
      "text/plain": [
       "Tab(children=(Tab(children=(Tab(children=(Output(),), selected_index=0, titles=('label == >50K',)), Tab(childr…"
      ],
      "application/vnd.jupyter.widget-view+json": {
       "version_major": 2,
       "version_minor": 0,
       "model_id": "d9c5bf2d6c404e9595d929b0259a0556"
      }
     },
     "execution_count": 3,
     "metadata": {},
     "output_type": "execute_result"
    }
   ],
   "execution_count": 3
  },
  {
   "metadata": {},
   "cell_type": "markdown",
   "source": "# Advanced Usage",
   "id": "d8061f88e3d26519"
  },
  {
   "metadata": {},
   "cell_type": "markdown",
   "source": "## Configuration",
   "id": "be7d8eaddfdfc254"
  },
  {
   "metadata": {},
   "cell_type": "markdown",
   "source": [
    "The recommender can be configured on both a global and per-recommender basis.\n",
    "First, we will show how to configure the global settings."
   ],
   "id": "7e4b0ff8d8beda6c"
  },
  {
   "metadata": {
    "ExecuteTime": {
     "end_time": "2024-12-27T19:23:38.534614Z",
     "start_time": "2024-12-27T19:23:38.525115Z"
    }
   },
   "cell_type": "code",
   "source": "from pd_explain.recommenders import get_global_recommender_config_settings, set_global_recommender_config_settings, enable_recommenders, disable_recommenders, get_global_config_info",
   "id": "a9baf290afd5c83",
   "outputs": [],
   "execution_count": 4
  },
  {
   "metadata": {},
   "cell_type": "markdown",
   "source": "To get the current global settings, use the `get_global_recommender_config_settings` function.",
   "id": "244efba53a2e2b49"
  },
  {
   "metadata": {
    "ExecuteTime": {
     "end_time": "2024-12-27T19:23:38.668866Z",
     "start_time": "2024-12-27T19:23:38.655746Z"
    }
   },
   "cell_type": "code",
   "source": "get_global_recommender_config_settings()",
   "id": "be4fabc92bbc7a90",
   "outputs": [
    {
     "data": {
      "text/plain": [
       "{'Engine settings': {'Enabled recommenders': {'FilterRecommender'},\n",
       "  'Disabled recommenders': set()},\n",
       " 'FilterRecommender': {'attributes': None,\n",
       "  'top_k_attributes': 3,\n",
       "  'top_k_recommendations': 1,\n",
       "  'top_k_explanations': 4,\n",
       "  'num_bins': 10}}"
      ]
     },
     "execution_count": 5,
     "metadata": {},
     "output_type": "execute_result"
    }
   ],
   "execution_count": 5
  },
  {
   "metadata": {},
   "cell_type": "markdown",
   "source": [
    "The global settings are currently set to the default values:\n",
    "- All recommenders are enabled. Right now, there is only one recommender implemented, for recommending filter queries.\n",
    "- Each recommender has its own default configuration. To get the specifics of what each setting is, each recommender configuration has a `config_info` property that provides information about the configuration settings."
   ],
   "id": "6a64056808ea9bef"
  },
  {
   "metadata": {
    "ExecuteTime": {
     "end_time": "2024-12-27T19:23:38.916246Z",
     "start_time": "2024-12-27T19:23:38.898073Z"
    }
   },
   "cell_type": "code",
   "source": "get_global_config_info()",
   "id": "63865a402cb1e3c6",
   "outputs": [
    {
     "data": {
      "text/plain": [
       "{'Engine settings': {'Enabled recommenders': 'The recommenders that are currently enabled.',\n",
       "  'Disabled recommenders': 'The recommenders that are currently disabled.'},\n",
       " 'FilterRecommender': {'num_bins': 'The number of bins to use when binning the data to generate recommendations.The higher the number, the more recommendation candidates will be generated, but it will also be slower to compute.',\n",
       "  'attributes': 'The attributes to recommend queries for. If None, the recommender will automatically select the attributes.',\n",
       "  'top_k_attributes': 'The maximum number of attributes to recommend queries for.',\n",
       "  'top_k_recommendations': 'The maximum number of recommendations to return for each attribute.',\n",
       "  'top_k_explanations': 'The maximum number of explanations to provide for each recommendation.'}}"
      ]
     },
     "execution_count": 6,
     "metadata": {},
     "output_type": "execute_result"
    }
   ],
   "execution_count": 6
  },
  {
   "metadata": {},
   "cell_type": "markdown",
   "source": "We can modify the global settings using the `set_global_recommender_config_settings` function.",
   "id": "8a3a23d05b18d949"
  },
  {
   "metadata": {
    "ExecuteTime": {
     "end_time": "2024-12-27T19:23:38.988799Z",
     "start_time": "2024-12-27T19:23:38.979120Z"
    }
   },
   "cell_type": "code",
   "source": "set_global_recommender_config_settings({'FilterRecommender': {'top_k_recommendations': 3, 'top_k_attributes': 2}}, apply_to_existing_recommenders=True)",
   "id": "f88b791cdcb526a0",
   "outputs": [],
   "execution_count": 7
  },
  {
   "metadata": {},
   "cell_type": "markdown",
   "source": [
    "The above commands sets the `top_k_recommendations` to 3 and `top_k_attributes` to 2 for the `FilterRecommender`. All other settings remain the same.\\\n",
    "The parameter `apply_to_existing_recommenders` determines whether the changes should be applied to existing recommender objects. It is set to `True` by default. Setting it to `False` will only apply the changes to new recommender objects.\\\n",
    "We can see the changes by getting the global settings again, and by running the `recommend` method again."
   ],
   "id": "7075cbcb6e22c826"
  },
  {
   "metadata": {
    "ExecuteTime": {
     "end_time": "2024-12-27T19:23:39.084224Z",
     "start_time": "2024-12-27T19:23:39.064406Z"
    }
   },
   "cell_type": "code",
   "source": "get_global_recommender_config_settings()",
   "id": "35b56a54edc70521",
   "outputs": [
    {
     "data": {
      "text/plain": [
       "{'Engine settings': {'Enabled recommenders': {'FilterRecommender'},\n",
       "  'Disabled recommenders': set()},\n",
       " 'FilterRecommender': {'attributes': None,\n",
       "  'top_k_attributes': 2,\n",
       "  'top_k_recommendations': 3,\n",
       "  'top_k_explanations': 4,\n",
       "  'num_bins': 10}}"
      ]
     },
     "execution_count": 8,
     "metadata": {},
     "output_type": "execute_result"
    }
   ],
   "execution_count": 8
  },
  {
   "metadata": {
    "ExecuteTime": {
     "end_time": "2024-12-27T19:24:15.690947Z",
     "start_time": "2024-12-27T19:23:39.181135Z"
    }
   },
   "cell_type": "code",
   "source": "adults.recommend()",
   "id": "30ef84b3c236ae96",
   "outputs": [
    {
     "data": {
      "text/plain": [
       "HTML(value='\\n                <style>\\n                .jupyter-widgets.widget-tab > .p-TabBar {\\n            …"
      ],
      "application/vnd.jupyter.widget-view+json": {
       "version_major": 2,
       "version_minor": 0,
       "model_id": "27c64720c1764560888d1cc55a85c2c7"
      }
     },
     "metadata": {},
     "output_type": "display_data"
    },
    {
     "data": {
      "text/plain": [
       "HTML(value='\\n        <style>\\n        .jupyter-widgets.widget-tab > .p-TabBar .p-TabBar-tab {\\n            fl…"
      ],
      "application/vnd.jupyter.widget-view+json": {
       "version_major": 2,
       "version_minor": 0,
       "model_id": "cde6aee070cd41a78682e26fbfad09f0"
      }
     },
     "metadata": {},
     "output_type": "display_data"
    },
    {
     "data": {
      "text/plain": [
       "Tab(children=(Tab(children=(Tab(children=(Output(), Output()), selected_index=0, titles=('label == <=50K', 'la…"
      ],
      "application/vnd.jupyter.widget-view+json": {
       "version_major": 2,
       "version_minor": 0,
       "model_id": "2a6d4fb5270d417184f219c9c5dda9b0"
      }
     },
     "execution_count": 9,
     "metadata": {},
     "output_type": "execute_result"
    }
   ],
   "execution_count": 9
  },
  {
   "metadata": {},
   "cell_type": "markdown",
   "source": "Likewise, we can enable and disable recommenders globally using the `enable_recommenders` and `disable_recommenders` functions.",
   "id": "34f726668bb40442"
  },
  {
   "metadata": {
    "ExecuteTime": {
     "end_time": "2024-12-27T19:24:15.839297Z",
     "start_time": "2024-12-27T19:24:15.832427Z"
    }
   },
   "cell_type": "code",
   "source": "disable_recommenders(['FilterRecommender'])",
   "id": "3fc00080a70ac2e2",
   "outputs": [],
   "execution_count": 10
  },
  {
   "metadata": {
    "ExecuteTime": {
     "end_time": "2024-12-27T19:24:15.870459Z",
     "start_time": "2024-12-27T19:24:15.861037Z"
    }
   },
   "cell_type": "code",
   "source": "adults.recommend()",
   "id": "cfbe71a9582cfaeb",
   "outputs": [
    {
     "data": {
      "text/plain": [
       "HTML(value='No recommenders enabled. Unable to provide recommendations.')"
      ],
      "application/vnd.jupyter.widget-view+json": {
       "version_major": 2,
       "version_minor": 0,
       "model_id": "b459d6ceff824fe89cdcc657492a5c04"
      }
     },
     "execution_count": 11,
     "metadata": {},
     "output_type": "execute_result"
    }
   ],
   "execution_count": 11
  },
  {
   "metadata": {
    "ExecuteTime": {
     "end_time": "2024-12-27T19:24:15.896854Z",
     "start_time": "2024-12-27T19:24:15.891384Z"
    }
   },
   "cell_type": "code",
   "source": "enable_recommenders(['FilterRecommender'])",
   "id": "9ff8d4aa18a039bd",
   "outputs": [],
   "execution_count": 12
  },
  {
   "metadata": {},
   "cell_type": "markdown",
   "source": "The recommender can also be configured locally for each recommender object.",
   "id": "485999e75a3edf6f"
  },
  {
   "metadata": {
    "ExecuteTime": {
     "end_time": "2024-12-27T19:24:15.936813Z",
     "start_time": "2024-12-27T19:24:15.929222Z"
    }
   },
   "cell_type": "code",
   "source": "adults.recommender.recommender_configurations",
   "id": "7e001828505da672",
   "outputs": [
    {
     "data": {
      "text/plain": [
       "{'Enabled recommenders': ['FilterRecommender'],\n",
       " 'Disabled recommenders': [],\n",
       " 'FilterRecommender': {'attributes': None,\n",
       "  'top_k_attributes': 2,\n",
       "  'top_k_recommendations': 3,\n",
       "  'top_k_explanations': 4,\n",
       "  'num_bins': 10}}"
      ]
     },
     "execution_count": 13,
     "metadata": {},
     "output_type": "execute_result"
    }
   ],
   "execution_count": 13
  },
  {
   "metadata": {
    "ExecuteTime": {
     "end_time": "2024-12-27T19:24:15.960233Z",
     "start_time": "2024-12-27T19:24:15.956084Z"
    }
   },
   "cell_type": "code",
   "source": "adults.recommender.recommender_configurations = {'FilterRecommender': {'top_k_recommendations': 2}}",
   "id": "2bff5bf0c4e7126c",
   "outputs": [],
   "execution_count": 14
  },
  {
   "metadata": {
    "ExecuteTime": {
     "end_time": "2024-12-27T19:24:15.997843Z",
     "start_time": "2024-12-27T19:24:15.991366Z"
    }
   },
   "cell_type": "code",
   "source": "adults.recommender.recommender_configurations",
   "id": "500b9dcfc54cb9b3",
   "outputs": [
    {
     "data": {
      "text/plain": [
       "{'Enabled recommenders': ['FilterRecommender'],\n",
       " 'Disabled recommenders': [],\n",
       " 'FilterRecommender': {'attributes': None,\n",
       "  'top_k_attributes': 2,\n",
       "  'top_k_recommendations': 2,\n",
       "  'top_k_explanations': 4,\n",
       "  'num_bins': 10}}"
      ]
     },
     "execution_count": 15,
     "metadata": {},
     "output_type": "execute_result"
    }
   ],
   "execution_count": 15
  },
  {
   "metadata": {},
   "cell_type": "markdown",
   "source": "This will not affect the global settings or any other recommender objects, unlike the global settings.",
   "id": "d09b9b65bf0cd983"
  },
  {
   "metadata": {},
   "cell_type": "markdown",
   "source": "## Selecting Attributes",
   "id": "d18f354cd501cb6c"
  },
  {
   "metadata": {},
   "cell_type": "markdown",
   "source": [
    "It is possible for the user to specify which attributes they are interested in, instead of letting the recommender automatically select them.\n",
    "There are 2 ways to do this:"
   ],
   "id": "80e95923fca10918"
  },
  {
   "metadata": {},
   "cell_type": "markdown",
   "source": [
    "The first, is to specify the attributes when calling the `recommend` method.\n",
    "This will only affect the current call, and will apply to all of the enabled recommenders."
   ],
   "id": "66a813a1786f1798"
  },
  {
   "metadata": {
    "ExecuteTime": {
     "end_time": "2024-12-27T19:24:47.046756Z",
     "start_time": "2024-12-27T19:24:16.001268Z"
    }
   },
   "cell_type": "code",
   "source": "adults.recommend(attributes=['age', 'education'])",
   "id": "327d4687300e5e60",
   "outputs": [
    {
     "data": {
      "text/plain": [
       "HTML(value='\\n                <style>\\n                .jupyter-widgets.widget-tab > .p-TabBar {\\n            …"
      ],
      "application/vnd.jupyter.widget-view+json": {
       "version_major": 2,
       "version_minor": 0,
       "model_id": "ed6b6b07b6b94bdbaf51f6bdd27cf790"
      }
     },
     "metadata": {},
     "output_type": "display_data"
    },
    {
     "data": {
      "text/plain": [
       "HTML(value='\\n        <style>\\n        .jupyter-widgets.widget-tab > .p-TabBar .p-TabBar-tab {\\n            fl…"
      ],
      "application/vnd.jupyter.widget-view+json": {
       "version_major": 2,
       "version_minor": 0,
       "model_id": "bc12d27086e9404ba01bf3f00f3a9185"
      }
     },
     "metadata": {},
     "output_type": "display_data"
    },
    {
     "data": {
      "text/plain": [
       "Tab(children=(Tab(children=(Tab(children=(Output(), Output()), selected_index=0, titles=('age <= 22.0', 'age <…"
      ],
      "application/vnd.jupyter.widget-view+json": {
       "version_major": 2,
       "version_minor": 0,
       "model_id": "77bad1f718574b1d91a4011e4c824f24"
      }
     },
     "execution_count": 16,
     "metadata": {},
     "output_type": "execute_result"
    }
   ],
   "execution_count": 16
  },
  {
   "metadata": {},
   "cell_type": "markdown",
   "source": [
    "The second, is to use the configuration settings to specify the attributes.\\\n",
    "This can be done globally or locally, and can be done on a per-recommender basis.\\\n",
    "Additionally, this will apply to all future calls to the `recommend` method, unless the attributes are specified in the method call.\\\n",
    "The attributes can be set back to `None` to let the recommender automatically select them."
   ],
   "id": "c7ab565fc4b48fa6"
  },
  {
   "metadata": {
    "ExecuteTime": {
     "end_time": "2024-12-27T19:24:47.089905Z",
     "start_time": "2024-12-27T19:24:47.078106Z"
    }
   },
   "cell_type": "code",
   "source": "adults.recommender.recommender_configurations",
   "id": "52c87133d26e7ded",
   "outputs": [
    {
     "data": {
      "text/plain": [
       "{'Enabled recommenders': ['FilterRecommender'],\n",
       " 'Disabled recommenders': [],\n",
       " 'FilterRecommender': {'attributes': None,\n",
       "  'top_k_attributes': 2,\n",
       "  'top_k_recommendations': 2,\n",
       "  'top_k_explanations': 4,\n",
       "  'num_bins': 10}}"
      ]
     },
     "execution_count": 17,
     "metadata": {},
     "output_type": "execute_result"
    }
   ],
   "execution_count": 17
  },
  {
   "metadata": {
    "ExecuteTime": {
     "end_time": "2024-12-27T19:24:47.118034Z",
     "start_time": "2024-12-27T19:24:47.113103Z"
    }
   },
   "cell_type": "code",
   "source": "adults.recommender.recommender_configurations = {'FilterRecommender': {'attributes': ['fnlwgt', 'marital-status']}}",
   "id": "601c110c21f0506c",
   "outputs": [],
   "execution_count": 18
  },
  {
   "metadata": {
    "ExecuteTime": {
     "end_time": "2024-12-27T19:24:47.159045Z",
     "start_time": "2024-12-27T19:24:47.152141Z"
    }
   },
   "cell_type": "code",
   "source": "adults.recommender.recommender_configurations",
   "id": "bcf99a14752301dc",
   "outputs": [
    {
     "data": {
      "text/plain": [
       "{'Enabled recommenders': ['FilterRecommender'],\n",
       " 'Disabled recommenders': [],\n",
       " 'FilterRecommender': {'attributes': ['fnlwgt', 'marital-status'],\n",
       "  'top_k_attributes': 2,\n",
       "  'top_k_recommendations': 2,\n",
       "  'top_k_explanations': 4,\n",
       "  'num_bins': 10}}"
      ]
     },
     "execution_count": 19,
     "metadata": {},
     "output_type": "execute_result"
    }
   ],
   "execution_count": 19
  },
  {
   "metadata": {
    "ExecuteTime": {
     "end_time": "2024-12-27T19:25:12.402368Z",
     "start_time": "2024-12-27T19:24:47.174822Z"
    }
   },
   "cell_type": "code",
   "source": "adults.recommend()",
   "id": "508ee2c16faec81a",
   "outputs": [
    {
     "data": {
      "text/plain": [
       "HTML(value='\\n                <style>\\n                .jupyter-widgets.widget-tab > .p-TabBar {\\n            …"
      ],
      "application/vnd.jupyter.widget-view+json": {
       "version_major": 2,
       "version_minor": 0,
       "model_id": "96056b1e232643f68048f3946dd07a65"
      }
     },
     "metadata": {},
     "output_type": "display_data"
    },
    {
     "data": {
      "text/plain": [
       "HTML(value='\\n        <style>\\n        .jupyter-widgets.widget-tab > .p-TabBar .p-TabBar-tab {\\n            fl…"
      ],
      "application/vnd.jupyter.widget-view+json": {
       "version_major": 2,
       "version_minor": 0,
       "model_id": "ba0a46fc3b0e427589677545852b77a1"
      }
     },
     "metadata": {},
     "output_type": "display_data"
    },
    {
     "data": {
      "text/plain": [
       "Tab(children=(Tab(children=(Tab(children=(Output(), Output()), selected_index=0, titles=('fnlwgt <= 65738.2', …"
      ],
      "application/vnd.jupyter.widget-view+json": {
       "version_major": 2,
       "version_minor": 0,
       "model_id": "dda663087f8449b2be5de5d2123a17a7"
      }
     },
     "execution_count": 20,
     "metadata": {},
     "output_type": "execute_result"
    }
   ],
   "execution_count": 20
  },
  {
   "metadata": {
    "ExecuteTime": {
     "end_time": "2024-12-27T19:25:12.434403Z",
     "start_time": "2024-12-27T19:25:12.431543Z"
    }
   },
   "cell_type": "code",
   "source": "",
   "id": "b2dfeb3085344d42",
   "outputs": [],
   "execution_count": null
  }
 ],
 "metadata": {
  "kernelspec": {
   "display_name": "Python 3",
   "language": "python",
   "name": "python3"
  },
  "language_info": {
   "codemirror_mode": {
    "name": "ipython",
    "version": 2
   },
   "file_extension": ".py",
   "mimetype": "text/x-python",
   "name": "python",
   "nbconvert_exporter": "python",
   "pygments_lexer": "ipython2",
   "version": "2.7.6"
  }
 },
 "nbformat": 4,
 "nbformat_minor": 5
}
